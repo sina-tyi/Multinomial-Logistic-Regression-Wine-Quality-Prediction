{
  "nbformat": 4,
  "nbformat_minor": 0,
  "metadata": {
    "colab": {
      "name": "Multinomial Logistic Regresion.ipynb",
      "provenance": []
    },
    "kernelspec": {
      "name": "python3",
      "display_name": "Python 3"
    }
  },
  "cells": [
    {
      "cell_type": "markdown",
      "metadata": {
        "id": "ci0p7AnY4Uoz"
      },
      "source": [
        "**Import Libraries**"
      ]
    },
    {
      "cell_type": "code",
      "metadata": {
        "id": "pCLpkhY1vBUE",
        "colab": {
          "base_uri": "https://localhost:8080/"
        },
        "outputId": "8e16effe-1e0c-4728-8f06-ac491f8b911d"
      },
      "source": [
        "import matplotlib.pyplot as plt\n",
        "%matplotlib inline\n",
        "import seaborn as sb\n",
        "import numpy as np\n",
        "import pandas as pd\n",
        "import statsmodels.api as sm\n",
        "from statsmodels.nonparametric.kde import KDEUnivariate\n",
        "from statsmodels.nonparametric import smoothers_lowess\n",
        "from pandas import Series, DataFrame\n",
        "from patsy import dmatrices\n",
        "from sklearn import datasets, svm\n",
        "from sklearn.linear_model import LogisticRegression"
      ],
      "execution_count": null,
      "outputs": [
        {
          "output_type": "stream",
          "text": [
            "/usr/local/lib/python3.6/dist-packages/statsmodels/tools/_testing.py:19: FutureWarning: pandas.util.testing is deprecated. Use the functions in the public API at pandas.testing instead.\n",
            "  import pandas.util.testing as tm\n"
          ],
          "name": "stderr"
        }
      ]
    },
    {
      "cell_type": "markdown",
      "metadata": {
        "id": "ZwWcTih_INJD"
      },
      "source": [
        "### **Load Data and Perform Preprocessing**"
      ]
    },
    {
      "cell_type": "code",
      "metadata": {
        "id": "E6cWyuk1mOgQ",
        "colab": {
          "resources": {
            "http://localhost:8080/nbextensions/google.colab/files.js": {
              "data": "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",
              "ok": true,
              "headers": [
                [
                  "content-type",
                  "application/javascript"
                ]
              ],
              "status": 200,
              "status_text": ""
            }
          },
          "base_uri": "https://localhost:8080/",
          "height": 72
        },
        "outputId": "5033c67f-c1ee-4d50-e081-67d2c5b12c27"
      },
      "source": [
        "from google.colab import files\n",
        "uploaded = files.upload()"
      ],
      "execution_count": null,
      "outputs": [
        {
          "output_type": "display_data",
          "data": {
            "text/html": [
              "\n",
              "     <input type=\"file\" id=\"files-34f76e00-3285-4e80-90ad-c05c9d8a5384\" name=\"files[]\" multiple disabled\n",
              "        style=\"border:none\" />\n",
              "     <output id=\"result-34f76e00-3285-4e80-90ad-c05c9d8a5384\">\n",
              "      Upload widget is only available when the cell has been executed in the\n",
              "      current browser session. Please rerun this cell to enable.\n",
              "      </output>\n",
              "      <script src=\"/nbextensions/google.colab/files.js\"></script> "
            ],
            "text/plain": [
              "<IPython.core.display.HTML object>"
            ]
          },
          "metadata": {
            "tags": []
          }
        },
        {
          "output_type": "stream",
          "text": [
            "Saving winequality-white.csv to winequality-white.csv\n"
          ],
          "name": "stdout"
        }
      ]
    },
    {
      "cell_type": "code",
      "metadata": {
        "id": "bacbwobLqKs-"
      },
      "source": [
        "import pandas as pd\n",
        "import io\n",
        "df = pd.read_csv(io.BytesIO(uploaded['winequality-white.csv']), sep=';')\n"
      ],
      "execution_count": null,
      "outputs": []
    },
    {
      "cell_type": "code",
      "metadata": {
        "id": "Z0PprYvqpcVO",
        "colab": {
          "base_uri": "https://localhost:8080/"
        },
        "outputId": "e450c846-efa0-4554-ade6-3d0f936dc6c4"
      },
      "source": [
        "df.dtypes"
      ],
      "execution_count": null,
      "outputs": [
        {
          "output_type": "execute_result",
          "data": {
            "text/plain": [
              "fixed acidity           float64\n",
              "volatile acidity        float64\n",
              "citric acid             float64\n",
              "residual sugar          float64\n",
              "chlorides               float64\n",
              "free sulfur dioxide     float64\n",
              "total sulfur dioxide    float64\n",
              "density                 float64\n",
              "pH                      float64\n",
              "sulphates               float64\n",
              "alcohol                 float64\n",
              "quality                   int64\n",
              "dtype: object"
            ]
          },
          "metadata": {
            "tags": []
          },
          "execution_count": 4
        }
      ]
    },
    {
      "cell_type": "code",
      "metadata": {
        "colab": {
          "base_uri": "https://localhost:8080/",
          "height": 419
        },
        "id": "wAYD6URK45C1",
        "outputId": "c01d612c-3741-40fb-8fad-2b61941a8f0f"
      },
      "source": [
        "df"
      ],
      "execution_count": null,
      "outputs": [
        {
          "output_type": "execute_result",
          "data": {
            "text/html": [
              "<div>\n",
              "<style scoped>\n",
              "    .dataframe tbody tr th:only-of-type {\n",
              "        vertical-align: middle;\n",
              "    }\n",
              "\n",
              "    .dataframe tbody tr th {\n",
              "        vertical-align: top;\n",
              "    }\n",
              "\n",
              "    .dataframe thead th {\n",
              "        text-align: right;\n",
              "    }\n",
              "</style>\n",
              "<table border=\"1\" class=\"dataframe\">\n",
              "  <thead>\n",
              "    <tr style=\"text-align: right;\">\n",
              "      <th></th>\n",
              "      <th>fixed acidity</th>\n",
              "      <th>volatile acidity</th>\n",
              "      <th>citric acid</th>\n",
              "      <th>residual sugar</th>\n",
              "      <th>chlorides</th>\n",
              "      <th>free sulfur dioxide</th>\n",
              "      <th>total sulfur dioxide</th>\n",
              "      <th>density</th>\n",
              "      <th>pH</th>\n",
              "      <th>sulphates</th>\n",
              "      <th>alcohol</th>\n",
              "      <th>quality</th>\n",
              "    </tr>\n",
              "  </thead>\n",
              "  <tbody>\n",
              "    <tr>\n",
              "      <th>0</th>\n",
              "      <td>7.0</td>\n",
              "      <td>0.27</td>\n",
              "      <td>0.36</td>\n",
              "      <td>20.7</td>\n",
              "      <td>0.045</td>\n",
              "      <td>45.0</td>\n",
              "      <td>170.0</td>\n",
              "      <td>1.00100</td>\n",
              "      <td>3.00</td>\n",
              "      <td>0.45</td>\n",
              "      <td>8.8</td>\n",
              "      <td>6</td>\n",
              "    </tr>\n",
              "    <tr>\n",
              "      <th>1</th>\n",
              "      <td>6.3</td>\n",
              "      <td>0.30</td>\n",
              "      <td>0.34</td>\n",
              "      <td>1.6</td>\n",
              "      <td>0.049</td>\n",
              "      <td>14.0</td>\n",
              "      <td>132.0</td>\n",
              "      <td>0.99400</td>\n",
              "      <td>3.30</td>\n",
              "      <td>0.49</td>\n",
              "      <td>9.5</td>\n",
              "      <td>6</td>\n",
              "    </tr>\n",
              "    <tr>\n",
              "      <th>2</th>\n",
              "      <td>8.1</td>\n",
              "      <td>0.28</td>\n",
              "      <td>0.40</td>\n",
              "      <td>6.9</td>\n",
              "      <td>0.050</td>\n",
              "      <td>30.0</td>\n",
              "      <td>97.0</td>\n",
              "      <td>0.99510</td>\n",
              "      <td>3.26</td>\n",
              "      <td>0.44</td>\n",
              "      <td>10.1</td>\n",
              "      <td>6</td>\n",
              "    </tr>\n",
              "    <tr>\n",
              "      <th>3</th>\n",
              "      <td>7.2</td>\n",
              "      <td>0.23</td>\n",
              "      <td>0.32</td>\n",
              "      <td>8.5</td>\n",
              "      <td>0.058</td>\n",
              "      <td>47.0</td>\n",
              "      <td>186.0</td>\n",
              "      <td>0.99560</td>\n",
              "      <td>3.19</td>\n",
              "      <td>0.40</td>\n",
              "      <td>9.9</td>\n",
              "      <td>6</td>\n",
              "    </tr>\n",
              "    <tr>\n",
              "      <th>4</th>\n",
              "      <td>7.2</td>\n",
              "      <td>0.23</td>\n",
              "      <td>0.32</td>\n",
              "      <td>8.5</td>\n",
              "      <td>0.058</td>\n",
              "      <td>47.0</td>\n",
              "      <td>186.0</td>\n",
              "      <td>0.99560</td>\n",
              "      <td>3.19</td>\n",
              "      <td>0.40</td>\n",
              "      <td>9.9</td>\n",
              "      <td>6</td>\n",
              "    </tr>\n",
              "    <tr>\n",
              "      <th>...</th>\n",
              "      <td>...</td>\n",
              "      <td>...</td>\n",
              "      <td>...</td>\n",
              "      <td>...</td>\n",
              "      <td>...</td>\n",
              "      <td>...</td>\n",
              "      <td>...</td>\n",
              "      <td>...</td>\n",
              "      <td>...</td>\n",
              "      <td>...</td>\n",
              "      <td>...</td>\n",
              "      <td>...</td>\n",
              "    </tr>\n",
              "    <tr>\n",
              "      <th>4893</th>\n",
              "      <td>6.2</td>\n",
              "      <td>0.21</td>\n",
              "      <td>0.29</td>\n",
              "      <td>1.6</td>\n",
              "      <td>0.039</td>\n",
              "      <td>24.0</td>\n",
              "      <td>92.0</td>\n",
              "      <td>0.99114</td>\n",
              "      <td>3.27</td>\n",
              "      <td>0.50</td>\n",
              "      <td>11.2</td>\n",
              "      <td>6</td>\n",
              "    </tr>\n",
              "    <tr>\n",
              "      <th>4894</th>\n",
              "      <td>6.6</td>\n",
              "      <td>0.32</td>\n",
              "      <td>0.36</td>\n",
              "      <td>8.0</td>\n",
              "      <td>0.047</td>\n",
              "      <td>57.0</td>\n",
              "      <td>168.0</td>\n",
              "      <td>0.99490</td>\n",
              "      <td>3.15</td>\n",
              "      <td>0.46</td>\n",
              "      <td>9.6</td>\n",
              "      <td>5</td>\n",
              "    </tr>\n",
              "    <tr>\n",
              "      <th>4895</th>\n",
              "      <td>6.5</td>\n",
              "      <td>0.24</td>\n",
              "      <td>0.19</td>\n",
              "      <td>1.2</td>\n",
              "      <td>0.041</td>\n",
              "      <td>30.0</td>\n",
              "      <td>111.0</td>\n",
              "      <td>0.99254</td>\n",
              "      <td>2.99</td>\n",
              "      <td>0.46</td>\n",
              "      <td>9.4</td>\n",
              "      <td>6</td>\n",
              "    </tr>\n",
              "    <tr>\n",
              "      <th>4896</th>\n",
              "      <td>5.5</td>\n",
              "      <td>0.29</td>\n",
              "      <td>0.30</td>\n",
              "      <td>1.1</td>\n",
              "      <td>0.022</td>\n",
              "      <td>20.0</td>\n",
              "      <td>110.0</td>\n",
              "      <td>0.98869</td>\n",
              "      <td>3.34</td>\n",
              "      <td>0.38</td>\n",
              "      <td>12.8</td>\n",
              "      <td>7</td>\n",
              "    </tr>\n",
              "    <tr>\n",
              "      <th>4897</th>\n",
              "      <td>6.0</td>\n",
              "      <td>0.21</td>\n",
              "      <td>0.38</td>\n",
              "      <td>0.8</td>\n",
              "      <td>0.020</td>\n",
              "      <td>22.0</td>\n",
              "      <td>98.0</td>\n",
              "      <td>0.98941</td>\n",
              "      <td>3.26</td>\n",
              "      <td>0.32</td>\n",
              "      <td>11.8</td>\n",
              "      <td>6</td>\n",
              "    </tr>\n",
              "  </tbody>\n",
              "</table>\n",
              "<p>4898 rows × 12 columns</p>\n",
              "</div>"
            ],
            "text/plain": [
              "      fixed acidity  volatile acidity  citric acid  ...  sulphates  alcohol  quality\n",
              "0               7.0              0.27         0.36  ...       0.45      8.8        6\n",
              "1               6.3              0.30         0.34  ...       0.49      9.5        6\n",
              "2               8.1              0.28         0.40  ...       0.44     10.1        6\n",
              "3               7.2              0.23         0.32  ...       0.40      9.9        6\n",
              "4               7.2              0.23         0.32  ...       0.40      9.9        6\n",
              "...             ...               ...          ...  ...        ...      ...      ...\n",
              "4893            6.2              0.21         0.29  ...       0.50     11.2        6\n",
              "4894            6.6              0.32         0.36  ...       0.46      9.6        5\n",
              "4895            6.5              0.24         0.19  ...       0.46      9.4        6\n",
              "4896            5.5              0.29         0.30  ...       0.38     12.8        7\n",
              "4897            6.0              0.21         0.38  ...       0.32     11.8        6\n",
              "\n",
              "[4898 rows x 12 columns]"
            ]
          },
          "metadata": {
            "tags": []
          },
          "execution_count": 5
        }
      ]
    },
    {
      "cell_type": "code",
      "metadata": {
        "colab": {
          "base_uri": "https://localhost:8080/"
        },
        "id": "E5GEkZK1iNp7",
        "outputId": "736188f2-8fd0-41f9-8d5d-82873cf6cdee"
      },
      "source": [
        "print(df.isna().sum())"
      ],
      "execution_count": null,
      "outputs": [
        {
          "output_type": "stream",
          "text": [
            "fixed acidity           0\n",
            "volatile acidity        0\n",
            "citric acid             0\n",
            "residual sugar          0\n",
            "chlorides               0\n",
            "free sulfur dioxide     0\n",
            "total sulfur dioxide    0\n",
            "density                 0\n",
            "pH                      0\n",
            "sulphates               0\n",
            "alcohol                 0\n",
            "quality                 0\n",
            "dtype: int64\n"
          ],
          "name": "stdout"
        }
      ]
    },
    {
      "cell_type": "code",
      "metadata": {
        "colab": {
          "base_uri": "https://localhost:8080/"
        },
        "id": "3VI8z0Otxrmw",
        "outputId": "ba31abf6-5c6b-42bd-d7bc-d99174c842e5"
      },
      "source": [
        "df['quality'].value_counts()"
      ],
      "execution_count": null,
      "outputs": [
        {
          "output_type": "execute_result",
          "data": {
            "text/plain": [
              "6    2198\n",
              "5    1457\n",
              "7     880\n",
              "8     175\n",
              "4     163\n",
              "3      20\n",
              "9       5\n",
              "Name: quality, dtype: int64"
            ]
          },
          "metadata": {
            "tags": []
          },
          "execution_count": 7
        }
      ]
    },
    {
      "cell_type": "markdown",
      "metadata": {
        "id": "fEi53HD8zy4E"
      },
      "source": [
        "**Encode the Quality column again**"
      ]
    },
    {
      "cell_type": "code",
      "metadata": {
        "id": "NT4vfDDLKSyV"
      },
      "source": [
        "from sklearn.preprocessing import OrdinalEncoder\n",
        "\n",
        "df['quality'] = OrdinalEncoder().fit_transform(df['quality'].to_numpy().reshape(-1,1))"
      ],
      "execution_count": null,
      "outputs": []
    },
    {
      "cell_type": "code",
      "metadata": {
        "colab": {
          "base_uri": "https://localhost:8080/"
        },
        "id": "BhyhjBXs7AN1",
        "outputId": "25cad529-ed01-40b6-c65d-904093cc06bc"
      },
      "source": [
        "df['quality'].value_counts()"
      ],
      "execution_count": null,
      "outputs": [
        {
          "output_type": "execute_result",
          "data": {
            "text/plain": [
              "3.0    2198\n",
              "2.0    1457\n",
              "4.0     880\n",
              "5.0     175\n",
              "1.0     163\n",
              "0.0      20\n",
              "6.0       5\n",
              "Name: quality, dtype: int64"
            ]
          },
          "metadata": {
            "tags": []
          },
          "execution_count": 9
        }
      ]
    },
    {
      "cell_type": "markdown",
      "metadata": {
        "id": "q9l__ld0wqyn"
      },
      "source": [
        "### **Drop the unnecessary columns and split the dataset**"
      ]
    },
    {
      "cell_type": "code",
      "metadata": {
        "id": "CupQikSaQn4l"
      },
      "source": [
        "from sklearn.model_selection import train_test_split\n",
        "\n",
        "X_train, X_test, y_train, y_test = train_test_split(df.drop(columns=['quality','fixed acidity','volatile acidity','citric acid','residual sugar','free sulfur dioxide','total sulfur dioxide','pH','sulphates'])\n",
        ", df['quality'], test_size=0.25, random_state=25)"
      ],
      "execution_count": null,
      "outputs": []
    },
    {
      "cell_type": "code",
      "metadata": {
        "colab": {
          "base_uri": "https://localhost:8080/",
          "height": 419
        },
        "id": "FDBufzUS0qOa",
        "outputId": "91e15307-bc7b-47c1-8edd-91b73fd1e535"
      },
      "source": [
        "X_train"
      ],
      "execution_count": null,
      "outputs": [
        {
          "output_type": "execute_result",
          "data": {
            "text/html": [
              "<div>\n",
              "<style scoped>\n",
              "    .dataframe tbody tr th:only-of-type {\n",
              "        vertical-align: middle;\n",
              "    }\n",
              "\n",
              "    .dataframe tbody tr th {\n",
              "        vertical-align: top;\n",
              "    }\n",
              "\n",
              "    .dataframe thead th {\n",
              "        text-align: right;\n",
              "    }\n",
              "</style>\n",
              "<table border=\"1\" class=\"dataframe\">\n",
              "  <thead>\n",
              "    <tr style=\"text-align: right;\">\n",
              "      <th></th>\n",
              "      <th>chlorides</th>\n",
              "      <th>density</th>\n",
              "      <th>alcohol</th>\n",
              "    </tr>\n",
              "  </thead>\n",
              "  <tbody>\n",
              "    <tr>\n",
              "      <th>2009</th>\n",
              "      <td>0.034</td>\n",
              "      <td>0.99350</td>\n",
              "      <td>12.2</td>\n",
              "    </tr>\n",
              "    <tr>\n",
              "      <th>4112</th>\n",
              "      <td>0.041</td>\n",
              "      <td>0.99078</td>\n",
              "      <td>11.1</td>\n",
              "    </tr>\n",
              "    <tr>\n",
              "      <th>3598</th>\n",
              "      <td>0.033</td>\n",
              "      <td>0.99043</td>\n",
              "      <td>12.3</td>\n",
              "    </tr>\n",
              "    <tr>\n",
              "      <th>1010</th>\n",
              "      <td>0.043</td>\n",
              "      <td>0.99320</td>\n",
              "      <td>10.3</td>\n",
              "    </tr>\n",
              "    <tr>\n",
              "      <th>4344</th>\n",
              "      <td>0.176</td>\n",
              "      <td>0.99288</td>\n",
              "      <td>9.2</td>\n",
              "    </tr>\n",
              "    <tr>\n",
              "      <th>...</th>\n",
              "      <td>...</td>\n",
              "      <td>...</td>\n",
              "      <td>...</td>\n",
              "    </tr>\n",
              "    <tr>\n",
              "      <th>1175</th>\n",
              "      <td>0.042</td>\n",
              "      <td>0.99650</td>\n",
              "      <td>9.1</td>\n",
              "    </tr>\n",
              "    <tr>\n",
              "      <th>255</th>\n",
              "      <td>0.040</td>\n",
              "      <td>0.99350</td>\n",
              "      <td>9.6</td>\n",
              "    </tr>\n",
              "    <tr>\n",
              "      <th>2934</th>\n",
              "      <td>0.028</td>\n",
              "      <td>0.99215</td>\n",
              "      <td>9.8</td>\n",
              "    </tr>\n",
              "    <tr>\n",
              "      <th>2191</th>\n",
              "      <td>0.037</td>\n",
              "      <td>0.99810</td>\n",
              "      <td>9.7</td>\n",
              "    </tr>\n",
              "    <tr>\n",
              "      <th>318</th>\n",
              "      <td>0.030</td>\n",
              "      <td>0.99330</td>\n",
              "      <td>11.5</td>\n",
              "    </tr>\n",
              "  </tbody>\n",
              "</table>\n",
              "<p>3673 rows × 3 columns</p>\n",
              "</div>"
            ],
            "text/plain": [
              "      chlorides  density  alcohol\n",
              "2009      0.034  0.99350     12.2\n",
              "4112      0.041  0.99078     11.1\n",
              "3598      0.033  0.99043     12.3\n",
              "1010      0.043  0.99320     10.3\n",
              "4344      0.176  0.99288      9.2\n",
              "...         ...      ...      ...\n",
              "1175      0.042  0.99650      9.1\n",
              "255       0.040  0.99350      9.6\n",
              "2934      0.028  0.99215      9.8\n",
              "2191      0.037  0.99810      9.7\n",
              "318       0.030  0.99330     11.5\n",
              "\n",
              "[3673 rows x 3 columns]"
            ]
          },
          "metadata": {
            "tags": []
          },
          "execution_count": 11
        }
      ]
    },
    {
      "cell_type": "markdown",
      "metadata": {
        "id": "_s4PHxPv1-mK"
      },
      "source": [
        "**Build the Multinomial model**"
      ]
    },
    {
      "cell_type": "code",
      "metadata": {
        "colab": {
          "base_uri": "https://localhost:8080/"
        },
        "id": "rGLpOGJh2DAQ",
        "outputId": "3535a98c-0986-4b6d-b39d-a9f284e08d91"
      },
      "source": [
        "model = sm.MNLogit(y_train, X_train)\n",
        "results = model.fit()\n",
        "\n",
        "\n",
        "print(results.summary())\n",
        "print(results.summary2())"
      ],
      "execution_count": null,
      "outputs": [
        {
          "output_type": "stream",
          "text": [
            "Optimization terminated successfully.\n",
            "         Current function value: 1.163825\n",
            "         Iterations 13\n",
            "                          MNLogit Regression Results                          \n",
            "==============================================================================\n",
            "Dep. Variable:                quality   No. Observations:                 3673\n",
            "Model:                        MNLogit   Df Residuals:                     3655\n",
            "Method:                           MLE   Df Model:                           12\n",
            "Date:                Wed, 10 Feb 2021   Pseudo R-squ.:                 0.09892\n",
            "Time:                        18:09:14   Log-Likelihood:                -4274.7\n",
            "converged:                       True   LL-Null:                       -4744.0\n",
            "Covariance Type:            nonrobust   LLR p-value:                2.958e-193\n",
            "==============================================================================\n",
            " quality=1       coef    std err          z      P>|z|      [0.025      0.975]\n",
            "------------------------------------------------------------------------------\n",
            "chlorides     -4.6994      7.347     -0.640      0.522     -19.099       9.701\n",
            "density        2.9545      2.607      1.133      0.257      -2.155       8.064\n",
            "alcohol       -0.0721      0.238     -0.303      0.762      -0.539       0.395\n",
            "------------------------------------------------------------------------------\n",
            " quality=2       coef    std err          z      P>|z|      [0.025      0.975]\n",
            "------------------------------------------------------------------------------\n",
            "chlorides     -7.1629      6.708     -1.068      0.286     -20.311       5.985\n",
            "density        9.4745      2.462      3.848      0.000       4.649      14.300\n",
            "alcohol       -0.4958      0.225     -2.200      0.028      -0.937      -0.054\n",
            "------------------------------------------------------------------------------\n",
            " quality=3       coef    std err          z      P>|z|      [0.025      0.975]\n",
            "------------------------------------------------------------------------------\n",
            "chlorides    -11.1435      6.767     -1.647      0.100     -24.407       2.120\n",
            "density        3.0851      2.448      1.260      0.208      -1.712       7.882\n",
            "alcohol        0.1929      0.223      0.863      0.388      -0.245       0.631\n",
            "------------------------------------------------------------------------------\n",
            " quality=4       coef    std err          z      P>|z|      [0.025      0.975]\n",
            "------------------------------------------------------------------------------\n",
            "chlorides    -30.2560      8.066     -3.751      0.000     -46.066     -14.446\n",
            "density       -2.0353      2.497     -0.815      0.415      -6.930       2.859\n",
            "alcohol        0.6421      0.226      2.842      0.004       0.199       1.085\n",
            "------------------------------------------------------------------------------\n",
            " quality=5       coef    std err          z      P>|z|      [0.025      0.975]\n",
            "------------------------------------------------------------------------------\n",
            "chlorides    -24.9360     11.082     -2.250      0.024     -46.656      -3.216\n",
            "density       -6.6861      2.702     -2.475      0.013     -11.981      -1.391\n",
            "alcohol        0.8846      0.238      3.716      0.000       0.418       1.351\n",
            "------------------------------------------------------------------------------\n",
            " quality=6       coef    std err          z      P>|z|      [0.025      0.975]\n",
            "------------------------------------------------------------------------------\n",
            "chlorides   -137.3192     75.475     -1.819      0.069    -285.248      10.609\n",
            "density      -17.1447     10.829     -1.583      0.113     -38.369       4.080\n",
            "alcohol        1.7100      0.804      2.126      0.033       0.134       3.286\n",
            "==============================================================================\n",
            "                         Results: MNLogit\n",
            "==================================================================\n",
            "Model:              MNLogit          Pseudo R-squared: 0.099      \n",
            "Dependent Variable: quality          AIC:              8585.4596  \n",
            "Date:               2021-02-10 18:09 BIC:              8697.2174  \n",
            "No. Observations:   3673             Log-Likelihood:   -4274.7    \n",
            "Df Model:           12               LL-Null:          -4744.0    \n",
            "Df Residuals:       3655             LLR p-value:      2.9582e-193\n",
            "Converged:          1.0000           Scale:            1.0000     \n",
            "No. Iterations:     13.0000                                       \n",
            "-----------------------------------------------------------------\n",
            "quality = 0   Coef.   Std.Err.     t     P>|t|    [0.025   0.975]\n",
            "-----------------------------------------------------------------\n",
            " chlorides   -4.6994    7.3470  -0.6396  0.5224  -19.0993  9.7005\n",
            "   density    2.9545    2.6068   1.1334  0.2571   -2.1548  8.0638\n",
            "   alcohol   -0.0721    0.2381  -0.3030  0.7619   -0.5388  0.3945\n",
            "------------------------------------------------------------------\n",
            "quality = 1   Coef.   Std.Err.     t     P>|t|    [0.025    0.975]\n",
            "------------------------------------------------------------------\n",
            "  chlorides  -7.1629    6.7081  -1.0678  0.2856  -20.3105   5.9848\n",
            "    density   9.4745    2.4619   3.8484  0.0001    4.6493  14.2997\n",
            "    alcohol  -0.4958    0.2253  -2.2003  0.0278   -0.9374  -0.0542\n",
            "------------------------------------------------------------------\n",
            "quality = 2   Coef.    Std.Err.     t     P>|t|    [0.025   0.975]\n",
            "------------------------------------------------------------------\n",
            "  chlorides  -11.1435    6.7671  -1.6467  0.0996  -24.4068  2.1197\n",
            "    density    3.0851    2.4476   1.2605  0.2075   -1.7121  7.8823\n",
            "    alcohol    0.1929    0.2235   0.8633  0.3880   -0.2451  0.6310\n",
            "----------------------------------------------------------------\n",
            " quality = 3   Coef.   Std.Err.    t    P>|t|   [0.025   0.975] \n",
            "----------------------------------------------------------------\n",
            "chlorides     -30.2560   8.0663 -3.7509 0.0002 -46.0656 -14.4463\n",
            "  density      -2.0353   2.4972 -0.8150 0.4151  -6.9297   2.8591\n",
            "  alcohol       0.6421   0.2260  2.8417 0.0045   0.1992   1.0850\n",
            "----------------------------------------------------------------\n",
            " quality = 4    Coef.   Std.Err.    t    P>|t|   [0.025   0.975]\n",
            "----------------------------------------------------------------\n",
            "chlorides      -24.9360  11.0819 -2.2502 0.0244 -46.6561 -3.2160\n",
            "  density       -6.6861   2.7016 -2.4749 0.0133 -11.9810 -1.3911\n",
            "  alcohol        0.8846   0.2381  3.7156 0.0002   0.4180  1.3511\n",
            "----------------------------------------------------------------\n",
            "quality = 5    Coef.   Std.Err.    t    P>|t|    [0.025   0.975]\n",
            "----------------------------------------------------------------\n",
            "chlorides    -137.3192  75.4751 -1.8194 0.0689 -285.2477 10.6093\n",
            "  density     -17.1447  10.8292 -1.5832 0.1134  -38.3694  4.0801\n",
            "  alcohol       1.7100   0.8041  2.1265 0.0335    0.1339  3.2861\n",
            "==================================================================\n",
            "\n"
          ],
          "name": "stdout"
        }
      ]
    },
    {
      "cell_type": "code",
      "metadata": {
        "colab": {
          "base_uri": "https://localhost:8080/",
          "height": 204
        },
        "id": "uht5_v_unouN",
        "outputId": "24aac275-4218-4a16-b4c1-c7a2f853290f"
      },
      "source": [
        "y_hat = results.predict(X_test)\n",
        "y_hat.head()"
      ],
      "execution_count": null,
      "outputs": [
        {
          "output_type": "execute_result",
          "data": {
            "text/html": [
              "<div>\n",
              "<style scoped>\n",
              "    .dataframe tbody tr th:only-of-type {\n",
              "        vertical-align: middle;\n",
              "    }\n",
              "\n",
              "    .dataframe tbody tr th {\n",
              "        vertical-align: top;\n",
              "    }\n",
              "\n",
              "    .dataframe thead th {\n",
              "        text-align: right;\n",
              "    }\n",
              "</style>\n",
              "<table border=\"1\" class=\"dataframe\">\n",
              "  <thead>\n",
              "    <tr style=\"text-align: right;\">\n",
              "      <th></th>\n",
              "      <th>0</th>\n",
              "      <th>1</th>\n",
              "      <th>2</th>\n",
              "      <th>3</th>\n",
              "      <th>4</th>\n",
              "      <th>5</th>\n",
              "      <th>6</th>\n",
              "    </tr>\n",
              "  </thead>\n",
              "  <tbody>\n",
              "    <tr>\n",
              "      <th>2384</th>\n",
              "      <td>0.004319</td>\n",
              "      <td>0.033503</td>\n",
              "      <td>0.247651</td>\n",
              "      <td>0.498321</td>\n",
              "      <td>0.189011</td>\n",
              "      <td>0.027024</td>\n",
              "      <td>0.000171</td>\n",
              "    </tr>\n",
              "    <tr>\n",
              "      <th>3677</th>\n",
              "      <td>0.002903</td>\n",
              "      <td>0.019457</td>\n",
              "      <td>0.066287</td>\n",
              "      <td>0.457382</td>\n",
              "      <td>0.369075</td>\n",
              "      <td>0.083226</td>\n",
              "      <td>0.001671</td>\n",
              "    </tr>\n",
              "    <tr>\n",
              "      <th>2080</th>\n",
              "      <td>0.005006</td>\n",
              "      <td>0.039412</td>\n",
              "      <td>0.402370</td>\n",
              "      <td>0.444673</td>\n",
              "      <td>0.096602</td>\n",
              "      <td>0.011924</td>\n",
              "      <td>0.000012</td>\n",
              "    </tr>\n",
              "    <tr>\n",
              "      <th>2578</th>\n",
              "      <td>0.001667</td>\n",
              "      <td>0.011692</td>\n",
              "      <td>0.034332</td>\n",
              "      <td>0.343024</td>\n",
              "      <td>0.476027</td>\n",
              "      <td>0.109292</td>\n",
              "      <td>0.023965</td>\n",
              "    </tr>\n",
              "    <tr>\n",
              "      <th>401</th>\n",
              "      <td>0.004737</td>\n",
              "      <td>0.038909</td>\n",
              "      <td>0.560808</td>\n",
              "      <td>0.343987</td>\n",
              "      <td>0.046740</td>\n",
              "      <td>0.004817</td>\n",
              "      <td>0.000001</td>\n",
              "    </tr>\n",
              "  </tbody>\n",
              "</table>\n",
              "</div>"
            ],
            "text/plain": [
              "             0         1         2         3         4         5         6\n",
              "2384  0.004319  0.033503  0.247651  0.498321  0.189011  0.027024  0.000171\n",
              "3677  0.002903  0.019457  0.066287  0.457382  0.369075  0.083226  0.001671\n",
              "2080  0.005006  0.039412  0.402370  0.444673  0.096602  0.011924  0.000012\n",
              "2578  0.001667  0.011692  0.034332  0.343024  0.476027  0.109292  0.023965\n",
              "401   0.004737  0.038909  0.560808  0.343987  0.046740  0.004817  0.000001"
            ]
          },
          "metadata": {
            "tags": []
          },
          "execution_count": 13
        }
      ]
    },
    {
      "cell_type": "code",
      "metadata": {
        "id": "r3m-UdNoBFXm"
      },
      "source": [
        "predictions = y_hat.idxmax(axis=1)"
      ],
      "execution_count": null,
      "outputs": []
    },
    {
      "cell_type": "code",
      "metadata": {
        "colab": {
          "base_uri": "https://localhost:8080/",
          "height": 432
        },
        "id": "i6JSVMkYBKpe",
        "outputId": "77c2abea-aad0-4e05-b9e2-1e031a97fc11"
      },
      "source": [
        "conf_matrix = pd.crosstab(y_test, predictions, rownames=['Actual'], colnames=['Predictions'])\n",
        "print(conf_matrix)\n",
        "\n",
        "sb.heatmap(conf_matrix, annot=True)\n",
        "plt.show()"
      ],
      "execution_count": null,
      "outputs": [
        {
          "output_type": "stream",
          "text": [
            "Predictions    2    3   4\n",
            "Actual                   \n",
            "0.0            0    2   0\n",
            "1.0           13   23   0\n",
            "2.0          180  208   1\n",
            "3.0          123  387  17\n",
            "4.0           28  158  38\n",
            "5.0            7   29   9\n",
            "6.0            0    1   1\n"
          ],
          "name": "stdout"
        },
        {
          "output_type": "display_data",
          "data": {
            "image/png": "[encoded data removed]",
            "text/plain": [
              "<Figure size 432x288 with 2 Axes>"
            ]
          },
          "metadata": {
            "tags": [],
            "needs_background": "light"
          }
        }
      ]
    },
    {
      "cell_type": "code",
      "metadata": {
        "colab": {
          "base_uri": "https://localhost:8080/"
        },
        "id": "_a7qjMKSi5Nu",
        "outputId": "42388fef-ae77-453b-87ca-f05e5c64c7d5"
      },
      "source": [
        "from sklearn.metrics import (accuracy_score) \n",
        "# accuracy score of the model \n",
        "print('Test accuracy = ', accuracy_score(y_test, predictions))"
      ],
      "execution_count": null,
      "outputs": [
        {
          "output_type": "stream",
          "text": [
            "Test accuracy =  0.49387755102040815\n"
          ],
          "name": "stdout"
        }
      ]
    },
    {
      "cell_type": "markdown",
      "metadata": {
        "id": "rqgZ7nN940dz"
      },
      "source": [
        "### **Now I build models with all the input variables in the original dataset**"
      ]
    },
    {
      "cell_type": "markdown",
      "metadata": {
        "id": "fxS3H3Mc5Cgu"
      },
      "source": [
        "**1- Model considering all inputs and all classes**"
      ]
    },
    {
      "cell_type": "code",
      "metadata": {
        "id": "1lEwk9r85fRl"
      },
      "source": [
        "from sklearn.model_selection import train_test_split\n",
        "\n",
        "X1_train, X1_test, y1_train, y1_test = train_test_split(df.drop(columns=['quality'])\n",
        ", df['quality'], test_size=0.25, random_state=20)"
      ],
      "execution_count": null,
      "outputs": []
    },
    {
      "cell_type": "code",
      "metadata": {
        "colab": {
          "base_uri": "https://localhost:8080/",
          "height": 204
        },
        "id": "TC0YWouR5pih",
        "outputId": "4230d983-1a23-496a-c15d-a89eb12428fa"
      },
      "source": [
        "X1_train.head()"
      ],
      "execution_count": null,
      "outputs": [
        {
          "output_type": "execute_result",
          "data": {
            "text/html": [
              "<div>\n",
              "<style scoped>\n",
              "    .dataframe tbody tr th:only-of-type {\n",
              "        vertical-align: middle;\n",
              "    }\n",
              "\n",
              "    .dataframe tbody tr th {\n",
              "        vertical-align: top;\n",
              "    }\n",
              "\n",
              "    .dataframe thead th {\n",
              "        text-align: right;\n",
              "    }\n",
              "</style>\n",
              "<table border=\"1\" class=\"dataframe\">\n",
              "  <thead>\n",
              "    <tr style=\"text-align: right;\">\n",
              "      <th></th>\n",
              "      <th>fixed acidity</th>\n",
              "      <th>volatile acidity</th>\n",
              "      <th>citric acid</th>\n",
              "      <th>residual sugar</th>\n",
              "      <th>chlorides</th>\n",
              "      <th>free sulfur dioxide</th>\n",
              "      <th>total sulfur dioxide</th>\n",
              "      <th>density</th>\n",
              "      <th>pH</th>\n",
              "      <th>sulphates</th>\n",
              "      <th>alcohol</th>\n",
              "    </tr>\n",
              "  </thead>\n",
              "  <tbody>\n",
              "    <tr>\n",
              "      <th>2731</th>\n",
              "      <td>7.9</td>\n",
              "      <td>0.51</td>\n",
              "      <td>0.36</td>\n",
              "      <td>6.2</td>\n",
              "      <td>0.051</td>\n",
              "      <td>30.0</td>\n",
              "      <td>173.0</td>\n",
              "      <td>0.99840</td>\n",
              "      <td>3.09</td>\n",
              "      <td>0.53</td>\n",
              "      <td>9.7</td>\n",
              "    </tr>\n",
              "    <tr>\n",
              "      <th>2550</th>\n",
              "      <td>6.2</td>\n",
              "      <td>0.33</td>\n",
              "      <td>0.14</td>\n",
              "      <td>4.8</td>\n",
              "      <td>0.052</td>\n",
              "      <td>27.0</td>\n",
              "      <td>128.0</td>\n",
              "      <td>0.99475</td>\n",
              "      <td>3.21</td>\n",
              "      <td>0.48</td>\n",
              "      <td>9.4</td>\n",
              "    </tr>\n",
              "    <tr>\n",
              "      <th>292</th>\n",
              "      <td>7.4</td>\n",
              "      <td>0.28</td>\n",
              "      <td>0.42</td>\n",
              "      <td>19.8</td>\n",
              "      <td>0.066</td>\n",
              "      <td>53.0</td>\n",
              "      <td>195.0</td>\n",
              "      <td>1.00000</td>\n",
              "      <td>2.96</td>\n",
              "      <td>0.44</td>\n",
              "      <td>9.1</td>\n",
              "    </tr>\n",
              "    <tr>\n",
              "      <th>1002</th>\n",
              "      <td>6.4</td>\n",
              "      <td>0.28</td>\n",
              "      <td>0.43</td>\n",
              "      <td>7.1</td>\n",
              "      <td>0.045</td>\n",
              "      <td>60.0</td>\n",
              "      <td>221.0</td>\n",
              "      <td>0.99520</td>\n",
              "      <td>3.09</td>\n",
              "      <td>0.45</td>\n",
              "      <td>9.4</td>\n",
              "    </tr>\n",
              "    <tr>\n",
              "      <th>367</th>\n",
              "      <td>6.9</td>\n",
              "      <td>0.33</td>\n",
              "      <td>0.21</td>\n",
              "      <td>1.0</td>\n",
              "      <td>0.053</td>\n",
              "      <td>39.0</td>\n",
              "      <td>148.0</td>\n",
              "      <td>0.99270</td>\n",
              "      <td>3.12</td>\n",
              "      <td>0.45</td>\n",
              "      <td>9.4</td>\n",
              "    </tr>\n",
              "  </tbody>\n",
              "</table>\n",
              "</div>"
            ],
            "text/plain": [
              "      fixed acidity  volatile acidity  citric acid  ...    pH  sulphates  alcohol\n",
              "2731            7.9              0.51         0.36  ...  3.09       0.53      9.7\n",
              "2550            6.2              0.33         0.14  ...  3.21       0.48      9.4\n",
              "292             7.4              0.28         0.42  ...  2.96       0.44      9.1\n",
              "1002            6.4              0.28         0.43  ...  3.09       0.45      9.4\n",
              "367             6.9              0.33         0.21  ...  3.12       0.45      9.4\n",
              "\n",
              "[5 rows x 11 columns]"
            ]
          },
          "metadata": {
            "tags": []
          },
          "execution_count": 26
        }
      ]
    },
    {
      "cell_type": "code",
      "metadata": {
        "colab": {
          "base_uri": "https://localhost:8080/"
        },
        "id": "L6P9ddhF5xqJ",
        "outputId": "c1eea712-c65e-4238-fd5c-db6eb4e9cc9f"
      },
      "source": [
        "model_1 = sm.MNLogit(y1_train, X1_train)\n",
        "results = model_1.fit()\n",
        "\n",
        "\n",
        "print(results.summary())\n",
        "print(results.summary2())"
      ],
      "execution_count": null,
      "outputs": [
        {
          "output_type": "stream",
          "text": [
            "Optimization terminated successfully.\n",
            "         Current function value: 1.071862\n",
            "         Iterations 13\n",
            "                          MNLogit Regression Results                          \n",
            "==============================================================================\n",
            "Dep. Variable:                quality   No. Observations:                 3673\n",
            "Model:                        MNLogit   Df Residuals:                     3607\n",
            "Method:                           MLE   Df Model:                           60\n",
            "Date:                Wed, 10 Feb 2021   Pseudo R-squ.:                  0.1631\n",
            "Time:                        18:11:27   Log-Likelihood:                -3936.9\n",
            "converged:                       True   LL-Null:                       -4704.2\n",
            "Covariance Type:            nonrobust   LLR p-value:                3.300e-281\n",
            "========================================================================================\n",
            "           quality=1       coef    std err          z      P>|z|      [0.025      0.975]\n",
            "----------------------------------------------------------------------------------------\n",
            "fixed acidity           -0.6561      0.307     -2.139      0.032      -1.257      -0.055\n",
            "volatile acidity         1.8212      2.373      0.767      0.443      -2.831       6.473\n",
            "citric acid              3.2425      2.989      1.085      0.278      -2.615       9.100\n",
            "residual sugar          -0.0111      0.077     -0.144      0.886      -0.163       0.141\n",
            "chlorides              -11.4900      7.548     -1.522      0.128     -26.283       3.303\n",
            "free sulfur dioxide     -0.0990      0.020     -4.835      0.000      -0.139      -0.059\n",
            "total sulfur dioxide    -0.0065      0.010     -0.636      0.525      -0.026       0.013\n",
            "density                 10.4880      9.956      1.053      0.292      -9.026      30.002\n",
            "pH                      -0.2964      2.488     -0.119      0.905      -5.172       4.579\n",
            "sulphates                1.4059      3.545      0.397      0.692      -5.542       8.354\n",
            "alcohol                  0.0128      0.432      0.030      0.976      -0.834       0.859\n",
            "----------------------------------------------------------------------------------------\n",
            "           quality=2       coef    std err          z      P>|z|      [0.025      0.975]\n",
            "----------------------------------------------------------------------------------------\n",
            "fixed acidity           -1.0933      0.294     -3.720      0.000      -1.669      -0.517\n",
            "volatile acidity        -1.8552      2.318     -0.800      0.424      -6.399       2.689\n",
            "citric acid              3.9190      2.884      1.359      0.174      -1.733       9.571\n",
            "residual sugar           0.0238      0.074      0.323      0.747      -0.120       0.168\n",
            "chlorides              -14.8540      6.719     -2.211      0.027     -28.022      -1.686\n",
            "free sulfur dioxide     -0.0360      0.018     -2.014      0.044      -0.071      -0.001\n",
            "total sulfur dioxide    -0.0037      0.010     -0.379      0.705      -0.023       0.015\n",
            "density                 21.4093      9.556      2.240      0.025       2.681      40.138\n",
            "pH                      -1.9103      2.382     -0.802      0.423      -6.579       2.759\n",
            "sulphates                1.1804      3.434      0.344      0.731      -5.551       7.911\n",
            "alcohol                 -0.1269      0.420     -0.302      0.763      -0.951       0.697\n",
            "----------------------------------------------------------------------------------------\n",
            "           quality=3       coef    std err          z      P>|z|      [0.025      0.975]\n",
            "----------------------------------------------------------------------------------------\n",
            "fixed acidity           -1.2191      0.294     -4.145      0.000      -1.796      -0.643\n",
            "volatile acidity        -7.4243      2.347     -3.163      0.002     -12.024      -2.824\n",
            "citric acid              3.9552      2.888      1.369      0.171      -1.706       9.616\n",
            "residual sugar           0.0923      0.074      1.254      0.210      -0.052       0.237\n",
            "chlorides              -13.1510      6.838     -1.923      0.054     -26.554       0.252\n",
            "free sulfur dioxide     -0.0271      0.018     -1.519      0.129      -0.062       0.008\n",
            "total sulfur dioxide    -0.0076      0.010     -0.780      0.435      -0.027       0.012\n",
            "density                 13.4915      9.555      1.412      0.158      -5.237      32.220\n",
            "pH                      -1.6865      2.382     -0.708      0.479      -6.355       2.982\n",
            "sulphates                2.4271      3.433      0.707      0.480      -4.302       9.157\n",
            "alcohol                  0.7641      0.420      1.818      0.069      -0.060       1.588\n",
            "----------------------------------------------------------------------------------------\n",
            "           quality=4       coef    std err          z      P>|z|      [0.025      0.975]\n",
            "----------------------------------------------------------------------------------------\n",
            "fixed acidity           -1.1224      0.298     -3.760      0.000      -1.707      -0.537\n",
            "volatile acidity        -9.8865      2.402     -4.115      0.000     -14.595      -5.178\n",
            "citric acid              2.8082      2.919      0.962      0.336      -2.913       8.529\n",
            "residual sugar           0.1293      0.074      1.739      0.082      -0.016       0.275\n",
            "chlorides              -36.7481      8.419     -4.365      0.000     -53.249     -20.247\n",
            "free sulfur dioxide     -0.0200      0.018     -1.105      0.269      -0.055       0.015\n",
            "total sulfur dioxide    -0.0084      0.010     -0.849      0.396      -0.028       0.011\n",
            "density                  4.1500      9.639      0.431      0.667     -14.743      23.043\n",
            "pH                      -0.7598      2.398     -0.317      0.751      -5.461       3.941\n",
            "sulphates                3.2730      3.446      0.950      0.342      -3.482      10.028\n",
            "alcohol                  1.3062      0.423      3.090      0.002       0.478       2.135\n",
            "----------------------------------------------------------------------------------------\n",
            "           quality=5       coef    std err          z      P>|z|      [0.025      0.975]\n",
            "----------------------------------------------------------------------------------------\n",
            "fixed acidity           -1.3007      0.324     -4.016      0.000      -1.935      -0.666\n",
            "volatile acidity        -8.2019      2.577     -3.183      0.001     -13.252      -3.152\n",
            "citric acid              3.9528      3.009      1.314      0.189      -1.944       9.850\n",
            "residual sugar           0.1683      0.076      2.202      0.028       0.018       0.318\n",
            "chlorides              -24.2667     10.809     -2.245      0.025     -45.452      -3.082\n",
            "free sulfur dioxide     -0.0021      0.019     -0.107      0.915      -0.040       0.035\n",
            "total sulfur dioxide    -0.0106      0.010     -1.023      0.306      -0.031       0.010\n",
            "density                 -1.6329     10.074     -0.162      0.871     -21.377      18.111\n",
            "pH                      -0.6532      2.487     -0.263      0.793      -5.527       4.221\n",
            "sulphates                2.0317      3.510      0.579      0.563      -4.848       8.911\n",
            "alcohol                  1.6256      0.432      3.763      0.000       0.779       2.472\n",
            "----------------------------------------------------------------------------------------\n",
            "           quality=6       coef    std err          z      P>|z|      [0.025      0.975]\n",
            "----------------------------------------------------------------------------------------\n",
            "fixed acidity            0.1865      0.464      0.402      0.688      -0.724       1.097\n",
            "volatile acidity       -15.7623     11.428     -1.379      0.168     -38.161       6.637\n",
            "citric acid              4.7301      4.715      1.003      0.316      -4.511      13.971\n",
            "residual sugar           0.2996      0.180      1.668      0.095      -0.052       0.652\n",
            "chlorides             -154.1833    110.769     -1.392      0.164    -371.287      62.921\n",
            "free sulfur dioxide     -0.0816      0.080     -1.023      0.306      -0.238       0.075\n",
            "total sulfur dioxide     0.0074      0.027      0.274      0.784      -0.045       0.060\n",
            "density                -33.6816     24.103     -1.397      0.162     -80.923      13.560\n",
            "pH                       7.1068      6.053      1.174      0.240      -4.756      18.970\n",
            "sulphates                0.6800      8.510      0.080      0.936     -16.000      17.360\n",
            "alcohol                  1.4777      0.980      1.507      0.132      -0.444       3.399\n",
            "========================================================================================\n",
            "                            Results: MNLogit\n",
            "========================================================================\n",
            "Model:                MNLogit            Pseudo R-squared:   0.163      \n",
            "Dependent Variable:   quality            AIC:                8005.8984  \n",
            "Date:                 2021-02-10 18:11   BIC:                8415.6769  \n",
            "No. Observations:     3673               Log-Likelihood:     -3936.9    \n",
            "Df Model:             60                 LL-Null:            -4704.2    \n",
            "Df Residuals:         3607               LLR p-value:        3.3003e-281\n",
            "Converged:            1.0000             Scale:              1.0000     \n",
            "No. Iterations:       13.0000                                           \n",
            "------------------------------------------------------------------------\n",
            "     quality = 0        Coef.   Std.Err.    t    P>|t|   [0.025   0.975]\n",
            "------------------------------------------------------------------------\n",
            "       fixed acidity    -0.6561   0.3067 -2.1391 0.0324  -1.2573 -0.0549\n",
            "    volatile acidity     1.8212   2.3734  0.7674 0.4429  -2.8305  6.4730\n",
            "         citric acid     3.2425   2.9886  1.0850 0.2779  -2.6150  9.1001\n",
            "      residual sugar    -0.0111   0.0774 -0.1436 0.8858  -0.1629  0.1407\n",
            "           chlorides   -11.4900   7.5476 -1.5223 0.1279 -26.2831  3.3030\n",
            " free sulfur dioxide    -0.0990   0.0205 -4.8352 0.0000  -0.1391 -0.0588\n",
            "total sulfur dioxide    -0.0065   0.0102 -0.6362 0.5247  -0.0264  0.0134\n",
            "             density    10.4880   9.9564  1.0534 0.2922  -9.0261 30.0021\n",
            "                  pH    -0.2964   2.4877 -0.1191 0.9052  -5.1721  4.5794\n",
            "           sulphates     1.4059   3.5449  0.3966 0.6917  -5.5420  8.3537\n",
            "             alcohol     0.0128   0.4318  0.0295 0.9764  -0.8336  0.8591\n",
            "------------------------------------------------------------------------\n",
            "     quality = 1        Coef.   Std.Err.    t    P>|t|   [0.025   0.975]\n",
            "------------------------------------------------------------------------\n",
            "       fixed acidity    -1.0933   0.2939 -3.7205 0.0002  -1.6692 -0.5173\n",
            "    volatile acidity    -1.8552   2.3183 -0.8003 0.4236  -6.3990  2.6885\n",
            "         citric acid     3.9190   2.8836  1.3591 0.1741  -1.7328  9.5707\n",
            "      residual sugar     0.0238   0.0736  0.3230 0.7467  -0.1204  0.1680\n",
            "           chlorides   -14.8540   6.7187 -2.2109 0.0270 -28.0223 -1.6856\n",
            " free sulfur dioxide    -0.0360   0.0179 -2.0145 0.0440  -0.0711 -0.0010\n",
            "total sulfur dioxide    -0.0037   0.0098 -0.3791 0.7046  -0.0228  0.0154\n",
            "             density    21.4093   9.5557  2.2405 0.0251   2.6805 40.1381\n",
            "                  pH    -1.9103   2.3821 -0.8019 0.4226  -6.5791  2.7586\n",
            "           sulphates     1.1804   3.4342  0.3437 0.7311  -5.5505  7.9114\n",
            "             alcohol    -0.1269   0.4203 -0.3019 0.7627  -0.9506  0.6969\n",
            "------------------------------------------------------------------------\n",
            "     quality = 2        Coef.   Std.Err.    t    P>|t|   [0.025   0.975]\n",
            "------------------------------------------------------------------------\n",
            "       fixed acidity    -1.2191   0.2941 -4.1453 0.0000  -1.7956 -0.6427\n",
            "    volatile acidity    -7.4243   2.3469 -3.1635 0.0016 -12.0241 -2.8245\n",
            "         citric acid     3.9552   2.8882  1.3694 0.1709  -1.7056  9.6159\n",
            "      residual sugar     0.0923   0.0737  1.2535 0.2100  -0.0520  0.2367\n",
            "           chlorides   -13.1510   6.8382 -1.9232 0.0545 -26.5537  0.2517\n",
            " free sulfur dioxide    -0.0271   0.0178 -1.5189 0.1288  -0.0621  0.0079\n",
            "total sulfur dioxide    -0.0076   0.0098 -0.7801 0.4353  -0.0268  0.0115\n",
            "             density    13.4915   9.5553  1.4119 0.1580  -5.2365 32.2195\n",
            "                  pH    -1.6865   2.3819 -0.7080 0.4789  -6.3549  2.9820\n",
            "           sulphates     2.4271   3.4334  0.7069 0.4796  -4.3023  9.1565\n",
            "             alcohol     0.7641   0.4203  1.8178 0.0691  -0.0597  1.5879\n",
            "------------------------------------------------------------------------\n",
            "     quality = 3       Coef.   Std.Err.    t    P>|t|   [0.025   0.975] \n",
            "------------------------------------------------------------------------\n",
            "       fixed acidity   -1.1224   0.2985 -3.7604 0.0002  -1.7073  -0.5374\n",
            "    volatile acidity   -9.8865   2.4025 -4.1151 0.0000 -14.5953  -5.1777\n",
            "         citric acid    2.8082   2.9189  0.9621 0.3360  -2.9127   8.5291\n",
            "      residual sugar    0.1293   0.0744  1.7388 0.0821  -0.0164   0.2751\n",
            "           chlorides  -36.7481   8.4189 -4.3650 0.0000 -53.2488 -20.2475\n",
            " free sulfur dioxide   -0.0200   0.0181 -1.1050 0.2692  -0.0554   0.0155\n",
            "total sulfur dioxide   -0.0084   0.0099 -0.8487 0.3961  -0.0277   0.0110\n",
            "             density    4.1500   9.6394  0.4305 0.6668 -14.7430  23.0429\n",
            "                  pH   -0.7598   2.3984 -0.3168 0.7514  -5.4607   3.9410\n",
            "           sulphates    3.2730   3.4464  0.9497 0.3423  -3.4819  10.0279\n",
            "             alcohol    1.3062   0.4227  3.0902 0.0020   0.4777   2.1346\n",
            "------------------------------------------------------------------------\n",
            "     quality = 4        Coef.   Std.Err.    t    P>|t|   [0.025   0.975]\n",
            "------------------------------------------------------------------------\n",
            "       fixed acidity    -1.3007   0.3239 -4.0160 0.0001  -1.9355 -0.6659\n",
            "    volatile acidity    -8.2019   2.5766 -3.1833 0.0015 -13.2519 -3.1520\n",
            "         citric acid     3.9528   3.0087  1.3138 0.1889  -1.9442  9.8498\n",
            "      residual sugar     0.1683   0.0764  2.2019 0.0277   0.0185  0.3181\n",
            "           chlorides   -24.2667  10.8088 -2.2451 0.0248 -45.4516 -3.0818\n",
            " free sulfur dioxide    -0.0021   0.0192 -0.1073 0.9145  -0.0396  0.0355\n",
            "total sulfur dioxide    -0.0106   0.0104 -1.0228 0.3064  -0.0310  0.0097\n",
            "             density    -1.6329  10.0736 -0.1621 0.8712 -21.3768 18.1109\n",
            "                  pH    -0.6532   2.4869 -0.2626 0.7928  -5.5274  4.2211\n",
            "           sulphates     2.0317   3.5099  0.5788 0.5627  -4.8476  8.9110\n",
            "             alcohol     1.6256   0.4320  3.7631 0.0002   0.7789  2.4722\n",
            "------------------------------------------------------------------------\n",
            "    quality = 5        Coef.   Std.Err.    t    P>|t|    [0.025   0.975]\n",
            "------------------------------------------------------------------------\n",
            "       fixed acidity    0.1865   0.4643  0.4017 0.6879   -0.7236  1.0966\n",
            "    volatile acidity  -15.7623  11.4282 -1.3792 0.1678  -38.1611  6.6366\n",
            "         citric acid    4.7301   4.7151  1.0032 0.3158   -4.5113 13.9715\n",
            "      residual sugar    0.2996   0.1796  1.6682 0.0953   -0.0524  0.6517\n",
            "           chlorides -154.1833 110.7693 -1.3919 0.1639 -371.2871 62.9205\n",
            " free sulfur dioxide   -0.0816   0.0797 -1.0232 0.3062   -0.2378  0.0747\n",
            "total sulfur dioxide    0.0074   0.0270  0.2738 0.7842   -0.0455  0.0602\n",
            "             density  -33.6816  24.1031 -1.3974 0.1623  -80.9228 13.5596\n",
            "                  pH    7.1068   6.0526  1.1742 0.2403   -4.7562 18.9697\n",
            "           sulphates    0.6800   8.5102  0.0799 0.9363  -15.9997 17.3597\n",
            "             alcohol    1.4777   0.9803  1.5074 0.1317   -0.4437  3.3992\n",
            "========================================================================\n",
            "\n"
          ],
          "name": "stdout"
        }
      ]
    },
    {
      "cell_type": "code",
      "metadata": {
        "colab": {
          "base_uri": "https://localhost:8080/",
          "height": 204
        },
        "id": "sXx9OyIXIvEb",
        "outputId": "8d617d8b-59d2-4183-b6c8-a6009402cb79"
      },
      "source": [
        "y_hat_1 = results.predict(X1_test)\n",
        "y_hat_1.head()"
      ],
      "execution_count": null,
      "outputs": [
        {
          "output_type": "execute_result",
          "data": {
            "text/html": [
              "<div>\n",
              "<style scoped>\n",
              "    .dataframe tbody tr th:only-of-type {\n",
              "        vertical-align: middle;\n",
              "    }\n",
              "\n",
              "    .dataframe tbody tr th {\n",
              "        vertical-align: top;\n",
              "    }\n",
              "\n",
              "    .dataframe thead th {\n",
              "        text-align: right;\n",
              "    }\n",
              "</style>\n",
              "<table border=\"1\" class=\"dataframe\">\n",
              "  <thead>\n",
              "    <tr style=\"text-align: right;\">\n",
              "      <th></th>\n",
              "      <th>0</th>\n",
              "      <th>1</th>\n",
              "      <th>2</th>\n",
              "      <th>3</th>\n",
              "      <th>4</th>\n",
              "      <th>5</th>\n",
              "      <th>6</th>\n",
              "    </tr>\n",
              "  </thead>\n",
              "  <tbody>\n",
              "    <tr>\n",
              "      <th>3994</th>\n",
              "      <td>0.000426</td>\n",
              "      <td>0.008978</td>\n",
              "      <td>0.133577</td>\n",
              "      <td>0.585713</td>\n",
              "      <td>0.226619</td>\n",
              "      <td>0.044620</td>\n",
              "      <td>0.000066</td>\n",
              "    </tr>\n",
              "    <tr>\n",
              "      <th>2540</th>\n",
              "      <td>0.007539</td>\n",
              "      <td>0.021842</td>\n",
              "      <td>0.248210</td>\n",
              "      <td>0.447923</td>\n",
              "      <td>0.232693</td>\n",
              "      <td>0.023357</td>\n",
              "      <td>0.018437</td>\n",
              "    </tr>\n",
              "    <tr>\n",
              "      <th>4030</th>\n",
              "      <td>0.000254</td>\n",
              "      <td>0.006693</td>\n",
              "      <td>0.110424</td>\n",
              "      <td>0.517742</td>\n",
              "      <td>0.323287</td>\n",
              "      <td>0.040867</td>\n",
              "      <td>0.000734</td>\n",
              "    </tr>\n",
              "    <tr>\n",
              "      <th>952</th>\n",
              "      <td>0.000224</td>\n",
              "      <td>0.037045</td>\n",
              "      <td>0.263316</td>\n",
              "      <td>0.516473</td>\n",
              "      <td>0.173157</td>\n",
              "      <td>0.009377</td>\n",
              "      <td>0.000407</td>\n",
              "    </tr>\n",
              "    <tr>\n",
              "      <th>1968</th>\n",
              "      <td>0.006035</td>\n",
              "      <td>0.018660</td>\n",
              "      <td>0.306480</td>\n",
              "      <td>0.498764</td>\n",
              "      <td>0.155909</td>\n",
              "      <td>0.013902</td>\n",
              "      <td>0.000249</td>\n",
              "    </tr>\n",
              "  </tbody>\n",
              "</table>\n",
              "</div>"
            ],
            "text/plain": [
              "             0         1         2         3         4         5         6\n",
              "3994  0.000426  0.008978  0.133577  0.585713  0.226619  0.044620  0.000066\n",
              "2540  0.007539  0.021842  0.248210  0.447923  0.232693  0.023357  0.018437\n",
              "4030  0.000254  0.006693  0.110424  0.517742  0.323287  0.040867  0.000734\n",
              "952   0.000224  0.037045  0.263316  0.516473  0.173157  0.009377  0.000407\n",
              "1968  0.006035  0.018660  0.306480  0.498764  0.155909  0.013902  0.000249"
            ]
          },
          "metadata": {
            "tags": []
          },
          "execution_count": 28
        }
      ]
    },
    {
      "cell_type": "code",
      "metadata": {
        "id": "Tv7-HzDpJHvX"
      },
      "source": [
        "predictions_1 = y_hat_1.idxmax(axis=1)"
      ],
      "execution_count": null,
      "outputs": []
    },
    {
      "cell_type": "code",
      "metadata": {
        "colab": {
          "base_uri": "https://localhost:8080/",
          "height": 432
        },
        "id": "-SNIYtSdJNVT",
        "outputId": "87526691-a5ff-4d49-a1d2-b66304b6bc6a"
      },
      "source": [
        "conf_matrix = pd.crosstab(y1_test, predictions_1, rownames=['Actual'], colnames=['Predictions'])\n",
        "print(conf_matrix)\n",
        "\n",
        "sb.heatmap(conf_matrix, annot=True)\n",
        "plt.show()"
      ],
      "execution_count": null,
      "outputs": [
        {
          "output_type": "stream",
          "text": [
            "Predictions  0  1    2    3   4\n",
            "Actual                         \n",
            "0.0          2  1    1    5   0\n",
            "1.0          0  4   22   20   0\n",
            "2.0          1  4  188  166   3\n",
            "3.0          0  0  111  414  25\n",
            "4.0          0  0    9  164  38\n",
            "5.0          0  0    5   28  11\n",
            "6.0          0  0    0    0   3\n"
          ],
          "name": "stdout"
        },
        {
          "output_type": "display_data",
          "data": {
            "image/png": "[encoded data removed]",
            "text/plain": [
              "<Figure size 432x288 with 2 Axes>"
            ]
          },
          "metadata": {
            "tags": [],
            "needs_background": "light"
          }
        }
      ]
    },
    {
      "cell_type": "code",
      "metadata": {
        "colab": {
          "base_uri": "https://localhost:8080/"
        },
        "id": "M7kCKhN4JVqV",
        "outputId": "1038be1b-a7d2-4e69-abfe-eb3be3b09f07"
      },
      "source": [
        "from sklearn.metrics import (accuracy_score) \n",
        "# accuracy score of the model \n",
        "print('Test accuracy = ', accuracy_score(y1_test, predictions_1))"
      ],
      "execution_count": null,
      "outputs": [
        {
          "output_type": "stream",
          "text": [
            "Test accuracy =  0.5273469387755102\n"
          ],
          "name": "stdout"
        }
      ]
    },
    {
      "cell_type": "markdown",
      "metadata": {
        "id": "JiN6Xh2SC0Xp"
      },
      "source": [
        "### **Now I remove the quality class with the least data points and build two new models.**"
      ]
    },
    {
      "cell_type": "markdown",
      "metadata": {
        "id": "X3llmnp-LfMw"
      },
      "source": [
        "**2- Model considering the removal of rows of quality class 6 (class with least data point)**"
      ]
    },
    {
      "cell_type": "code",
      "metadata": {
        "colab": {
          "base_uri": "https://localhost:8080/",
          "height": 419
        },
        "id": "sRQcjawjLAlJ",
        "outputId": "ee39c990-dba3-4ccc-fe2e-914e07f015ad"
      },
      "source": [
        "df.drop(df[df['quality'] == 6].index, inplace = True)\n",
        "df"
      ],
      "execution_count": null,
      "outputs": [
        {
          "output_type": "execute_result",
          "data": {
            "text/html": [
              "<div>\n",
              "<style scoped>\n",
              "    .dataframe tbody tr th:only-of-type {\n",
              "        vertical-align: middle;\n",
              "    }\n",
              "\n",
              "    .dataframe tbody tr th {\n",
              "        vertical-align: top;\n",
              "    }\n",
              "\n",
              "    .dataframe thead th {\n",
              "        text-align: right;\n",
              "    }\n",
              "</style>\n",
              "<table border=\"1\" class=\"dataframe\">\n",
              "  <thead>\n",
              "    <tr style=\"text-align: right;\">\n",
              "      <th></th>\n",
              "      <th>fixed acidity</th>\n",
              "      <th>volatile acidity</th>\n",
              "      <th>citric acid</th>\n",
              "      <th>residual sugar</th>\n",
              "      <th>chlorides</th>\n",
              "      <th>free sulfur dioxide</th>\n",
              "      <th>total sulfur dioxide</th>\n",
              "      <th>density</th>\n",
              "      <th>pH</th>\n",
              "      <th>sulphates</th>\n",
              "      <th>alcohol</th>\n",
              "      <th>quality</th>\n",
              "    </tr>\n",
              "  </thead>\n",
              "  <tbody>\n",
              "    <tr>\n",
              "      <th>0</th>\n",
              "      <td>7.0</td>\n",
              "      <td>0.27</td>\n",
              "      <td>0.36</td>\n",
              "      <td>20.7</td>\n",
              "      <td>0.045</td>\n",
              "      <td>45.0</td>\n",
              "      <td>170.0</td>\n",
              "      <td>1.00100</td>\n",
              "      <td>3.00</td>\n",
              "      <td>0.45</td>\n",
              "      <td>8.8</td>\n",
              "      <td>3.0</td>\n",
              "    </tr>\n",
              "    <tr>\n",
              "      <th>1</th>\n",
              "      <td>6.3</td>\n",
              "      <td>0.30</td>\n",
              "      <td>0.34</td>\n",
              "      <td>1.6</td>\n",
              "      <td>0.049</td>\n",
              "      <td>14.0</td>\n",
              "      <td>132.0</td>\n",
              "      <td>0.99400</td>\n",
              "      <td>3.30</td>\n",
              "      <td>0.49</td>\n",
              "      <td>9.5</td>\n",
              "      <td>3.0</td>\n",
              "    </tr>\n",
              "    <tr>\n",
              "      <th>2</th>\n",
              "      <td>8.1</td>\n",
              "      <td>0.28</td>\n",
              "      <td>0.40</td>\n",
              "      <td>6.9</td>\n",
              "      <td>0.050</td>\n",
              "      <td>30.0</td>\n",
              "      <td>97.0</td>\n",
              "      <td>0.99510</td>\n",
              "      <td>3.26</td>\n",
              "      <td>0.44</td>\n",
              "      <td>10.1</td>\n",
              "      <td>3.0</td>\n",
              "    </tr>\n",
              "    <tr>\n",
              "      <th>3</th>\n",
              "      <td>7.2</td>\n",
              "      <td>0.23</td>\n",
              "      <td>0.32</td>\n",
              "      <td>8.5</td>\n",
              "      <td>0.058</td>\n",
              "      <td>47.0</td>\n",
              "      <td>186.0</td>\n",
              "      <td>0.99560</td>\n",
              "      <td>3.19</td>\n",
              "      <td>0.40</td>\n",
              "      <td>9.9</td>\n",
              "      <td>3.0</td>\n",
              "    </tr>\n",
              "    <tr>\n",
              "      <th>4</th>\n",
              "      <td>7.2</td>\n",
              "      <td>0.23</td>\n",
              "      <td>0.32</td>\n",
              "      <td>8.5</td>\n",
              "      <td>0.058</td>\n",
              "      <td>47.0</td>\n",
              "      <td>186.0</td>\n",
              "      <td>0.99560</td>\n",
              "      <td>3.19</td>\n",
              "      <td>0.40</td>\n",
              "      <td>9.9</td>\n",
              "      <td>3.0</td>\n",
              "    </tr>\n",
              "    <tr>\n",
              "      <th>...</th>\n",
              "      <td>...</td>\n",
              "      <td>...</td>\n",
              "      <td>...</td>\n",
              "      <td>...</td>\n",
              "      <td>...</td>\n",
              "      <td>...</td>\n",
              "      <td>...</td>\n",
              "      <td>...</td>\n",
              "      <td>...</td>\n",
              "      <td>...</td>\n",
              "      <td>...</td>\n",
              "      <td>...</td>\n",
              "    </tr>\n",
              "    <tr>\n",
              "      <th>4893</th>\n",
              "      <td>6.2</td>\n",
              "      <td>0.21</td>\n",
              "      <td>0.29</td>\n",
              "      <td>1.6</td>\n",
              "      <td>0.039</td>\n",
              "      <td>24.0</td>\n",
              "      <td>92.0</td>\n",
              "      <td>0.99114</td>\n",
              "      <td>3.27</td>\n",
              "      <td>0.50</td>\n",
              "      <td>11.2</td>\n",
              "      <td>3.0</td>\n",
              "    </tr>\n",
              "    <tr>\n",
              "      <th>4894</th>\n",
              "      <td>6.6</td>\n",
              "      <td>0.32</td>\n",
              "      <td>0.36</td>\n",
              "      <td>8.0</td>\n",
              "      <td>0.047</td>\n",
              "      <td>57.0</td>\n",
              "      <td>168.0</td>\n",
              "      <td>0.99490</td>\n",
              "      <td>3.15</td>\n",
              "      <td>0.46</td>\n",
              "      <td>9.6</td>\n",
              "      <td>2.0</td>\n",
              "    </tr>\n",
              "    <tr>\n",
              "      <th>4895</th>\n",
              "      <td>6.5</td>\n",
              "      <td>0.24</td>\n",
              "      <td>0.19</td>\n",
              "      <td>1.2</td>\n",
              "      <td>0.041</td>\n",
              "      <td>30.0</td>\n",
              "      <td>111.0</td>\n",
              "      <td>0.99254</td>\n",
              "      <td>2.99</td>\n",
              "      <td>0.46</td>\n",
              "      <td>9.4</td>\n",
              "      <td>3.0</td>\n",
              "    </tr>\n",
              "    <tr>\n",
              "      <th>4896</th>\n",
              "      <td>5.5</td>\n",
              "      <td>0.29</td>\n",
              "      <td>0.30</td>\n",
              "      <td>1.1</td>\n",
              "      <td>0.022</td>\n",
              "      <td>20.0</td>\n",
              "      <td>110.0</td>\n",
              "      <td>0.98869</td>\n",
              "      <td>3.34</td>\n",
              "      <td>0.38</td>\n",
              "      <td>12.8</td>\n",
              "      <td>4.0</td>\n",
              "    </tr>\n",
              "    <tr>\n",
              "      <th>4897</th>\n",
              "      <td>6.0</td>\n",
              "      <td>0.21</td>\n",
              "      <td>0.38</td>\n",
              "      <td>0.8</td>\n",
              "      <td>0.020</td>\n",
              "      <td>22.0</td>\n",
              "      <td>98.0</td>\n",
              "      <td>0.98941</td>\n",
              "      <td>3.26</td>\n",
              "      <td>0.32</td>\n",
              "      <td>11.8</td>\n",
              "      <td>3.0</td>\n",
              "    </tr>\n",
              "  </tbody>\n",
              "</table>\n",
              "<p>4893 rows × 12 columns</p>\n",
              "</div>"
            ],
            "text/plain": [
              "      fixed acidity  volatile acidity  citric acid  ...  sulphates  alcohol  quality\n",
              "0               7.0              0.27         0.36  ...       0.45      8.8      3.0\n",
              "1               6.3              0.30         0.34  ...       0.49      9.5      3.0\n",
              "2               8.1              0.28         0.40  ...       0.44     10.1      3.0\n",
              "3               7.2              0.23         0.32  ...       0.40      9.9      3.0\n",
              "4               7.2              0.23         0.32  ...       0.40      9.9      3.0\n",
              "...             ...               ...          ...  ...        ...      ...      ...\n",
              "4893            6.2              0.21         0.29  ...       0.50     11.2      3.0\n",
              "4894            6.6              0.32         0.36  ...       0.46      9.6      2.0\n",
              "4895            6.5              0.24         0.19  ...       0.46      9.4      3.0\n",
              "4896            5.5              0.29         0.30  ...       0.38     12.8      4.0\n",
              "4897            6.0              0.21         0.38  ...       0.32     11.8      3.0\n",
              "\n",
              "[4893 rows x 12 columns]"
            ]
          },
          "metadata": {
            "tags": []
          },
          "execution_count": 33
        }
      ]
    },
    {
      "cell_type": "code",
      "metadata": {
        "id": "uZhlWJdsLw1Q"
      },
      "source": [
        "from sklearn.model_selection import train_test_split\n",
        "\n",
        "X2_train, X2_test, y2_train, y2_test = train_test_split(df.drop(columns=['quality'])\n",
        ", df['quality'], test_size=0.25, random_state=20)"
      ],
      "execution_count": null,
      "outputs": []
    },
    {
      "cell_type": "code",
      "metadata": {
        "colab": {
          "base_uri": "https://localhost:8080/"
        },
        "id": "6__JsuD3L6TH",
        "outputId": "c192d26a-94a4-4e68-af80-dc61bccb6842"
      },
      "source": [
        "model_2 = sm.MNLogit(y2_train, X2_train)\n",
        "results = model_2.fit()\n",
        "\n",
        "\n",
        "print(results.summary())\n",
        "print(results.summary2())"
      ],
      "execution_count": null,
      "outputs": [
        {
          "output_type": "stream",
          "text": [
            "Optimization terminated successfully.\n",
            "         Current function value: 1.081659\n",
            "         Iterations 10\n",
            "                          MNLogit Regression Results                          \n",
            "==============================================================================\n",
            "Dep. Variable:                quality   No. Observations:                 3669\n",
            "Model:                        MNLogit   Df Residuals:                     3614\n",
            "Method:                           MLE   Df Model:                           50\n",
            "Date:                Wed, 10 Feb 2021   Pseudo R-squ.:                  0.1593\n",
            "Time:                        18:24:22   Log-Likelihood:                -3968.6\n",
            "converged:                       True   LL-Null:                       -4720.4\n",
            "Covariance Type:            nonrobust   LLR p-value:                5.471e-282\n",
            "========================================================================================\n",
            "           quality=1       coef    std err          z      P>|z|      [0.025      0.975]\n",
            "----------------------------------------------------------------------------------------\n",
            "fixed acidity           -0.7043      0.263     -2.673      0.008      -1.221      -0.188\n",
            "volatile acidity         1.9419      1.914      1.015      0.310      -1.809       5.692\n",
            "citric acid              3.2137      2.618      1.228      0.220      -1.917       8.345\n",
            "residual sugar          -0.0560      0.061     -0.912      0.362      -0.176       0.064\n",
            "chlorides              -11.5292      7.443     -1.549      0.121     -26.118       3.060\n",
            "free sulfur dioxide     -0.0699      0.019     -3.761      0.000      -0.106      -0.033\n",
            "total sulfur dioxide    -0.0069      0.008     -0.851      0.395      -0.023       0.009\n",
            "density                 13.7967      8.768      1.574      0.116      -3.387      30.981\n",
            "pH                      -0.5821      2.276     -0.256      0.798      -5.042       3.878\n",
            "sulphates                1.6812      3.063      0.549      0.583      -4.322       7.684\n",
            "alcohol                 -0.2960      0.329     -0.899      0.369      -0.942       0.350\n",
            "----------------------------------------------------------------------------------------\n",
            "           quality=2       coef    std err          z      P>|z|      [0.025      0.975]\n",
            "----------------------------------------------------------------------------------------\n",
            "fixed acidity           -0.9457      0.246     -3.840      0.000      -1.428      -0.463\n",
            "volatile acidity        -2.2912      1.872     -1.224      0.221      -5.960       1.378\n",
            "citric acid              3.0226      2.521      1.199      0.231      -1.919       7.964\n",
            "residual sugar          -0.0207      0.058     -0.360      0.719      -0.134       0.092\n",
            "chlorides              -10.1727      6.472     -1.572      0.116     -22.858       2.512\n",
            "free sulfur dioxide     -0.0210      0.016     -1.287      0.198      -0.053       0.011\n",
            "total sulfur dioxide    -0.0049      0.008     -0.636      0.525      -0.020       0.010\n",
            "density                 19.9217      8.327      2.392      0.017       3.601      36.242\n",
            "pH                      -1.1277      2.163     -0.521      0.602      -5.367       3.111\n",
            "sulphates                1.0031      2.938      0.341      0.733      -4.755       6.761\n",
            "alcohol                 -0.3569      0.315     -1.131      0.258      -0.975       0.261\n",
            "----------------------------------------------------------------------------------------\n",
            "           quality=3       coef    std err          z      P>|z|      [0.025      0.975]\n",
            "----------------------------------------------------------------------------------------\n",
            "fixed acidity           -1.0897      0.247     -4.418      0.000      -1.573      -0.606\n",
            "volatile acidity        -8.2866      1.907     -4.345      0.000     -12.025      -4.549\n",
            "citric acid              2.9752      2.526      1.178      0.239      -1.976       7.926\n",
            "residual sugar           0.0434      0.058      0.752      0.452      -0.070       0.156\n",
            "chlorides               -9.1872      6.603     -1.391      0.164     -22.129       3.755\n",
            "free sulfur dioxide     -0.0114      0.016     -0.700      0.484      -0.043       0.021\n",
            "total sulfur dioxide    -0.0073      0.008     -0.954      0.340      -0.022       0.008\n",
            "density                 12.6380      8.324      1.518      0.129      -3.676      28.952\n",
            "pH                      -1.0043      2.162     -0.464      0.642      -5.242       3.234\n",
            "sulphates                2.0317      2.936      0.692      0.489      -3.723       7.786\n",
            "alcohol                  0.5230      0.315      1.659      0.097      -0.095       1.141\n",
            "----------------------------------------------------------------------------------------\n",
            "           quality=4       coef    std err          z      P>|z|      [0.025      0.975]\n",
            "----------------------------------------------------------------------------------------\n",
            "fixed acidity           -0.9861      0.252     -3.919      0.000      -1.479      -0.493\n",
            "volatile acidity       -10.0902      1.972     -5.117      0.000     -13.955      -6.226\n",
            "citric acid              2.0309      2.561      0.793      0.428      -2.989       7.051\n",
            "residual sugar           0.0718      0.059      1.226      0.220      -0.043       0.187\n",
            "chlorides              -31.4923      8.213     -3.834      0.000     -47.590     -15.395\n",
            "free sulfur dioxide     -0.0061      0.017     -0.369      0.712      -0.039       0.026\n",
            "total sulfur dioxide    -0.0093      0.008     -1.196      0.232      -0.025       0.006\n",
            "density                  2.7595      8.417      0.328      0.743     -13.738      19.257\n",
            "pH                       0.0566      2.181      0.026      0.979      -4.217       4.330\n",
            "sulphates                3.1114      2.951      1.054      0.292      -2.673       8.896\n",
            "alcohol                  1.0578      0.319      3.321      0.001       0.434       1.682\n",
            "----------------------------------------------------------------------------------------\n",
            "           quality=5       coef    std err          z      P>|z|      [0.025      0.975]\n",
            "----------------------------------------------------------------------------------------\n",
            "fixed acidity           -1.0161      0.280     -3.635      0.000      -1.564      -0.468\n",
            "volatile acidity        -9.0197      2.174     -4.150      0.000     -13.280      -4.760\n",
            "citric acid              2.5351      2.676      0.947      0.343      -2.709       7.779\n",
            "residual sugar           0.1156      0.061      1.897      0.058      -0.004       0.235\n",
            "chlorides              -18.9615     10.896     -1.740      0.082     -40.317       2.394\n",
            "free sulfur dioxide      0.0132      0.018      0.752      0.452      -0.021       0.048\n",
            "total sulfur dioxide    -0.0106      0.008     -1.257      0.209      -0.027       0.006\n",
            "density                 -5.7302      8.882     -0.645      0.519     -23.138      11.678\n",
            "pH                       0.6669      2.273      0.293      0.769      -3.788       5.122\n",
            "sulphates                1.7984      3.023      0.595      0.552      -4.127       7.724\n",
            "alcohol                  1.4058      0.331      4.248      0.000       0.757       2.054\n",
            "========================================================================================\n",
            "                           Results: MNLogit\n",
            "=======================================================================\n",
            "Model:                 MNLogit           Pseudo R-squared:  0.159      \n",
            "Dependent Variable:    quality           AIC:               8047.2164  \n",
            "Date:                  2021-02-10 18:24  BIC:               8388.6385  \n",
            "No. Observations:      3669              Log-Likelihood:    -3968.6    \n",
            "Df Model:              50                LL-Null:           -4720.4    \n",
            "Df Residuals:          3614              LLR p-value:       5.4712e-282\n",
            "Converged:             1.0000            Scale:             1.0000     \n",
            "No. Iterations:        10.0000                                         \n",
            "-----------------------------------------------------------------------\n",
            "     quality = 0       Coef.   Std.Err.    t    P>|t|   [0.025   0.975]\n",
            "-----------------------------------------------------------------------\n",
            "       fixed acidity   -0.7043   0.2635 -2.6728 0.0075  -1.2207 -0.1878\n",
            "    volatile acidity    1.9419   1.9135  1.0148 0.3102  -1.8086  5.6924\n",
            "         citric acid    3.2137   2.6178  1.2276 0.2196  -1.9172  8.3446\n",
            "      residual sugar   -0.0560   0.0613 -0.9125 0.3615  -0.1762  0.0643\n",
            "           chlorides  -11.5292   7.4434 -1.5489 0.1214 -26.1181  3.0596\n",
            " free sulfur dioxide   -0.0699   0.0186 -3.7611 0.0002  -0.1063 -0.0335\n",
            "total sulfur dioxide   -0.0069   0.0081 -0.8513 0.3946  -0.0228  0.0090\n",
            "             density   13.7967   8.7676  1.5736 0.1156  -3.3874 30.9807\n",
            "                  pH   -0.5821   2.2756 -0.2558 0.7981  -5.0422  3.8780\n",
            "           sulphates    1.6812   3.0627  0.5489 0.5831  -4.3216  7.6840\n",
            "             alcohol   -0.2960   0.3294 -0.8987 0.3688  -0.9416  0.3495\n",
            "-----------------------------------------------------------------------\n",
            "     quality = 1       Coef.   Std.Err.    t    P>|t|   [0.025   0.975]\n",
            "-----------------------------------------------------------------------\n",
            "       fixed acidity   -0.9457   0.2463 -3.8403 0.0001  -1.4283 -0.4630\n",
            "    volatile acidity   -2.2912   1.8720 -1.2239 0.2210  -5.9603  1.3779\n",
            "         citric acid    3.0226   2.5212  1.1989 0.2306  -1.9189  7.9641\n",
            "      residual sugar   -0.0207   0.0576 -0.3599 0.7189  -0.1336  0.0922\n",
            "           chlorides  -10.1727   6.4720 -1.5718 0.1160 -22.8575  2.5121\n",
            " free sulfur dioxide   -0.0210   0.0163 -1.2870 0.1981  -0.0530  0.0110\n",
            "total sulfur dioxide   -0.0049   0.0077 -0.6361 0.5247  -0.0199  0.0102\n",
            "             density   19.9217   8.3269  2.3925 0.0167   3.6013 36.2420\n",
            "                  pH   -1.1277   2.1629 -0.5214 0.6021  -5.3668  3.1115\n",
            "           sulphates    1.0031   2.9378  0.3414 0.7328  -4.7548  6.7610\n",
            "             alcohol   -0.3569   0.3155 -1.1313 0.2579  -0.9752  0.2614\n",
            "-----------------------------------------------------------------------\n",
            "     quality = 2        Coef.  Std.Err.    t    P>|t|   [0.025   0.975]\n",
            "-----------------------------------------------------------------------\n",
            "       fixed acidity   -1.0897   0.2466 -4.4183 0.0000  -1.5731 -0.6063\n",
            "    volatile acidity   -8.2866   1.9071 -4.3450 0.0000 -12.0245 -4.5486\n",
            "         citric acid    2.9752   2.5262  1.1777 0.2389  -1.9761  7.9264\n",
            "      residual sugar    0.0434   0.0576  0.7524 0.4518  -0.0696  0.1564\n",
            "           chlorides   -9.1872   6.6033 -1.3913 0.1641 -22.1294  3.7551\n",
            " free sulfur dioxide   -0.0114   0.0163 -0.7004 0.4837  -0.0434  0.0206\n",
            "total sulfur dioxide   -0.0073   0.0077 -0.9541 0.3401  -0.0224  0.0077\n",
            "             density   12.6380   8.3237  1.5183 0.1289  -3.6761 28.9520\n",
            "                  pH   -1.0043   2.1623 -0.4644 0.6423  -5.2424  3.2338\n",
            "           sulphates    2.0317   2.9361  0.6920 0.4890  -3.7230  7.7863\n",
            "             alcohol    0.5230   0.3153  1.6585 0.0972  -0.0950  1.1410\n",
            "-----------------------------------------------------------------------\n",
            "    quality = 3       Coef.   Std.Err.    t    P>|t|   [0.025   0.975] \n",
            "-----------------------------------------------------------------------\n",
            "       fixed acidity  -0.9861   0.2516 -3.9192 0.0001  -1.4792  -0.4929\n",
            "    volatile acidity -10.0902   1.9717 -5.1175 0.0000 -13.9547  -6.2257\n",
            "         citric acid   2.0309   2.5612  0.7929 0.4278  -2.9890   7.0507\n",
            "      residual sugar   0.0718   0.0586  1.2262 0.2201  -0.0430   0.1866\n",
            "           chlorides -31.4923   8.2132 -3.8343 0.0001 -47.5899 -15.3947\n",
            " free sulfur dioxide  -0.0061   0.0166 -0.3692 0.7120  -0.0387   0.0264\n",
            "total sulfur dioxide  -0.0093   0.0078 -1.1955 0.2319  -0.0247   0.0060\n",
            "             density   2.7595   8.4170  0.3279 0.7430 -13.7375  19.2566\n",
            "                  pH   0.0566   2.1805  0.0259 0.9793  -4.2172   4.3304\n",
            "           sulphates   3.1114   2.9511  1.0543 0.2917  -2.6727   8.8956\n",
            "             alcohol   1.0578   0.3185  3.3211 0.0009   0.4335   1.6821\n",
            "-----------------------------------------------------------------------\n",
            "     quality = 4       Coef.   Std.Err.    t    P>|t|   [0.025   0.975]\n",
            "-----------------------------------------------------------------------\n",
            "       fixed acidity   -1.0161   0.2796 -3.6345 0.0003  -1.5641 -0.4682\n",
            "    volatile acidity   -9.0197   2.1736 -4.1496 0.0000 -13.2799 -4.7595\n",
            "         citric acid    2.5351   2.6758  0.9474 0.3434  -2.7093  7.7795\n",
            "      residual sugar    0.1156   0.0609  1.8970 0.0578  -0.0038  0.2349\n",
            "           chlorides  -18.9615  10.8956 -1.7403 0.0818 -40.3166  2.3936\n",
            " free sulfur dioxide    0.0132   0.0176  0.7521 0.4520  -0.0213  0.0478\n",
            "total sulfur dioxide   -0.0106   0.0084 -1.2568 0.2088  -0.0271  0.0059\n",
            "             density   -5.7302   8.8819 -0.6452 0.5188 -23.1384 11.6781\n",
            "                  pH    0.6669   2.2728  0.2934 0.7692  -3.7878  5.1216\n",
            "           sulphates    1.7984   3.0232  0.5949 0.5519  -4.1270  7.7237\n",
            "             alcohol    1.4058   0.3309  4.2481 0.0000   0.7572  2.0544\n",
            "=======================================================================\n",
            "\n"
          ],
          "name": "stdout"
        }
      ]
    },
    {
      "cell_type": "code",
      "metadata": {
        "colab": {
          "base_uri": "https://localhost:8080/",
          "height": 204
        },
        "id": "LMkI2ZGnMB18",
        "outputId": "03222f31-5729-433b-935d-1d8ae8a79c5c"
      },
      "source": [
        "y_hat_2 = results.predict(X2_test)\n",
        "y_hat_2.head()"
      ],
      "execution_count": null,
      "outputs": [
        {
          "output_type": "execute_result",
          "data": {
            "text/html": [
              "<div>\n",
              "<style scoped>\n",
              "    .dataframe tbody tr th:only-of-type {\n",
              "        vertical-align: middle;\n",
              "    }\n",
              "\n",
              "    .dataframe tbody tr th {\n",
              "        vertical-align: top;\n",
              "    }\n",
              "\n",
              "    .dataframe thead th {\n",
              "        text-align: right;\n",
              "    }\n",
              "</style>\n",
              "<table border=\"1\" class=\"dataframe\">\n",
              "  <thead>\n",
              "    <tr style=\"text-align: right;\">\n",
              "      <th></th>\n",
              "      <th>0</th>\n",
              "      <th>1</th>\n",
              "      <th>2</th>\n",
              "      <th>3</th>\n",
              "      <th>4</th>\n",
              "      <th>5</th>\n",
              "    </tr>\n",
              "  </thead>\n",
              "  <tbody>\n",
              "    <tr>\n",
              "      <th>4515</th>\n",
              "      <td>0.002087</td>\n",
              "      <td>0.005830</td>\n",
              "      <td>0.143417</td>\n",
              "      <td>0.534970</td>\n",
              "      <td>0.267946</td>\n",
              "      <td>0.045750</td>\n",
              "    </tr>\n",
              "    <tr>\n",
              "      <th>2544</th>\n",
              "      <td>0.002351</td>\n",
              "      <td>0.038848</td>\n",
              "      <td>0.275273</td>\n",
              "      <td>0.475831</td>\n",
              "      <td>0.183723</td>\n",
              "      <td>0.023974</td>\n",
              "    </tr>\n",
              "    <tr>\n",
              "      <th>4031</th>\n",
              "      <td>0.000663</td>\n",
              "      <td>0.103423</td>\n",
              "      <td>0.604043</td>\n",
              "      <td>0.275453</td>\n",
              "      <td>0.015107</td>\n",
              "      <td>0.001311</td>\n",
              "    </tr>\n",
              "    <tr>\n",
              "      <th>914</th>\n",
              "      <td>0.006941</td>\n",
              "      <td>0.210679</td>\n",
              "      <td>0.578690</td>\n",
              "      <td>0.179997</td>\n",
              "      <td>0.022083</td>\n",
              "      <td>0.001610</td>\n",
              "    </tr>\n",
              "    <tr>\n",
              "      <th>4428</th>\n",
              "      <td>0.005397</td>\n",
              "      <td>0.026680</td>\n",
              "      <td>0.177681</td>\n",
              "      <td>0.465815</td>\n",
              "      <td>0.251424</td>\n",
              "      <td>0.073003</td>\n",
              "    </tr>\n",
              "  </tbody>\n",
              "</table>\n",
              "</div>"
            ],
            "text/plain": [
              "             0         1         2         3         4         5\n",
              "4515  0.002087  0.005830  0.143417  0.534970  0.267946  0.045750\n",
              "2544  0.002351  0.038848  0.275273  0.475831  0.183723  0.023974\n",
              "4031  0.000663  0.103423  0.604043  0.275453  0.015107  0.001311\n",
              "914   0.006941  0.210679  0.578690  0.179997  0.022083  0.001610\n",
              "4428  0.005397  0.026680  0.177681  0.465815  0.251424  0.073003"
            ]
          },
          "metadata": {
            "tags": []
          },
          "execution_count": 36
        }
      ]
    },
    {
      "cell_type": "code",
      "metadata": {
        "id": "9l3nnP6oMHDu"
      },
      "source": [
        "predictions_2 = y_hat_2.idxmax(axis=1)"
      ],
      "execution_count": null,
      "outputs": []
    },
    {
      "cell_type": "code",
      "metadata": {
        "colab": {
          "base_uri": "https://localhost:8080/",
          "height": 415
        },
        "id": "Vk7a6oQVMLUy",
        "outputId": "a0742564-3a71-4f30-f1ca-c79fb5245b17"
      },
      "source": [
        "conf_matrix = pd.crosstab(y2_test, predictions_2, rownames=['Actual'], colnames=['Predictions'])\n",
        "print(conf_matrix)\n",
        "\n",
        "sb.heatmap(conf_matrix, annot=True)\n",
        "plt.show()"
      ],
      "execution_count": null,
      "outputs": [
        {
          "output_type": "stream",
          "text": [
            "Predictions  1    2    3   4  5\n",
            "Actual                         \n",
            "0.0          0    0    3   1  1\n",
            "1.0          0   18   20   0  0\n",
            "2.0          2  180  169   3  0\n",
            "3.0          1  106  411  41  0\n",
            "4.0          0    9  171  46  0\n",
            "5.0          0    0   30  12  0\n"
          ],
          "name": "stdout"
        },
        {
          "output_type": "display_data",
          "data": {
            "image/png": "[encoded data removed]",
            "text/plain": [
              "<Figure size 432x288 with 2 Axes>"
            ]
          },
          "metadata": {
            "tags": [],
            "needs_background": "light"
          }
        }
      ]
    },
    {
      "cell_type": "code",
      "metadata": {
        "colab": {
          "base_uri": "https://localhost:8080/"
        },
        "id": "izsjWDJLMSSR",
        "outputId": "7a855a32-8fee-4048-95f9-08d253ef4127"
      },
      "source": [
        "from sklearn.metrics import (accuracy_score) \n",
        "# accuracy score of the model \n",
        "print('Test accuracy = ', accuracy_score(y2_test, predictions_2))"
      ],
      "execution_count": null,
      "outputs": [
        {
          "output_type": "stream",
          "text": [
            "Test accuracy =  0.5204248366013072\n"
          ],
          "name": "stdout"
        }
      ]
    },
    {
      "cell_type": "markdown",
      "metadata": {
        "id": "4CzzZWooPtWI"
      },
      "source": [
        "**3- Model considering the removal of rows of quality class 6 and 0(two classes with least data point)**"
      ]
    },
    {
      "cell_type": "code",
      "metadata": {
        "colab": {
          "base_uri": "https://localhost:8080/",
          "height": 419
        },
        "id": "dgdoo3tWP6SM",
        "outputId": "7644a9c9-0413-4a2d-8962-39efff78a281"
      },
      "source": [
        "df.drop(df[df['quality'] == 6].index, inplace = True)\n",
        "df.drop(df[df['quality'] == 0].index, inplace = True)\n",
        "df"
      ],
      "execution_count": null,
      "outputs": [
        {
          "output_type": "execute_result",
          "data": {
            "text/html": [
              "<div>\n",
              "<style scoped>\n",
              "    .dataframe tbody tr th:only-of-type {\n",
              "        vertical-align: middle;\n",
              "    }\n",
              "\n",
              "    .dataframe tbody tr th {\n",
              "        vertical-align: top;\n",
              "    }\n",
              "\n",
              "    .dataframe thead th {\n",
              "        text-align: right;\n",
              "    }\n",
              "</style>\n",
              "<table border=\"1\" class=\"dataframe\">\n",
              "  <thead>\n",
              "    <tr style=\"text-align: right;\">\n",
              "      <th></th>\n",
              "      <th>fixed acidity</th>\n",
              "      <th>volatile acidity</th>\n",
              "      <th>citric acid</th>\n",
              "      <th>residual sugar</th>\n",
              "      <th>chlorides</th>\n",
              "      <th>free sulfur dioxide</th>\n",
              "      <th>total sulfur dioxide</th>\n",
              "      <th>density</th>\n",
              "      <th>pH</th>\n",
              "      <th>sulphates</th>\n",
              "      <th>alcohol</th>\n",
              "      <th>quality</th>\n",
              "    </tr>\n",
              "  </thead>\n",
              "  <tbody>\n",
              "    <tr>\n",
              "      <th>0</th>\n",
              "      <td>7.0</td>\n",
              "      <td>0.27</td>\n",
              "      <td>0.36</td>\n",
              "      <td>20.7</td>\n",
              "      <td>0.045</td>\n",
              "      <td>45.0</td>\n",
              "      <td>170.0</td>\n",
              "      <td>1.00100</td>\n",
              "      <td>3.00</td>\n",
              "      <td>0.45</td>\n",
              "      <td>8.8</td>\n",
              "      <td>3.0</td>\n",
              "    </tr>\n",
              "    <tr>\n",
              "      <th>1</th>\n",
              "      <td>6.3</td>\n",
              "      <td>0.30</td>\n",
              "      <td>0.34</td>\n",
              "      <td>1.6</td>\n",
              "      <td>0.049</td>\n",
              "      <td>14.0</td>\n",
              "      <td>132.0</td>\n",
              "      <td>0.99400</td>\n",
              "      <td>3.30</td>\n",
              "      <td>0.49</td>\n",
              "      <td>9.5</td>\n",
              "      <td>3.0</td>\n",
              "    </tr>\n",
              "    <tr>\n",
              "      <th>2</th>\n",
              "      <td>8.1</td>\n",
              "      <td>0.28</td>\n",
              "      <td>0.40</td>\n",
              "      <td>6.9</td>\n",
              "      <td>0.050</td>\n",
              "      <td>30.0</td>\n",
              "      <td>97.0</td>\n",
              "      <td>0.99510</td>\n",
              "      <td>3.26</td>\n",
              "      <td>0.44</td>\n",
              "      <td>10.1</td>\n",
              "      <td>3.0</td>\n",
              "    </tr>\n",
              "    <tr>\n",
              "      <th>3</th>\n",
              "      <td>7.2</td>\n",
              "      <td>0.23</td>\n",
              "      <td>0.32</td>\n",
              "      <td>8.5</td>\n",
              "      <td>0.058</td>\n",
              "      <td>47.0</td>\n",
              "      <td>186.0</td>\n",
              "      <td>0.99560</td>\n",
              "      <td>3.19</td>\n",
              "      <td>0.40</td>\n",
              "      <td>9.9</td>\n",
              "      <td>3.0</td>\n",
              "    </tr>\n",
              "    <tr>\n",
              "      <th>4</th>\n",
              "      <td>7.2</td>\n",
              "      <td>0.23</td>\n",
              "      <td>0.32</td>\n",
              "      <td>8.5</td>\n",
              "      <td>0.058</td>\n",
              "      <td>47.0</td>\n",
              "      <td>186.0</td>\n",
              "      <td>0.99560</td>\n",
              "      <td>3.19</td>\n",
              "      <td>0.40</td>\n",
              "      <td>9.9</td>\n",
              "      <td>3.0</td>\n",
              "    </tr>\n",
              "    <tr>\n",
              "      <th>...</th>\n",
              "      <td>...</td>\n",
              "      <td>...</td>\n",
              "      <td>...</td>\n",
              "      <td>...</td>\n",
              "      <td>...</td>\n",
              "      <td>...</td>\n",
              "      <td>...</td>\n",
              "      <td>...</td>\n",
              "      <td>...</td>\n",
              "      <td>...</td>\n",
              "      <td>...</td>\n",
              "      <td>...</td>\n",
              "    </tr>\n",
              "    <tr>\n",
              "      <th>4893</th>\n",
              "      <td>6.2</td>\n",
              "      <td>0.21</td>\n",
              "      <td>0.29</td>\n",
              "      <td>1.6</td>\n",
              "      <td>0.039</td>\n",
              "      <td>24.0</td>\n",
              "      <td>92.0</td>\n",
              "      <td>0.99114</td>\n",
              "      <td>3.27</td>\n",
              "      <td>0.50</td>\n",
              "      <td>11.2</td>\n",
              "      <td>3.0</td>\n",
              "    </tr>\n",
              "    <tr>\n",
              "      <th>4894</th>\n",
              "      <td>6.6</td>\n",
              "      <td>0.32</td>\n",
              "      <td>0.36</td>\n",
              "      <td>8.0</td>\n",
              "      <td>0.047</td>\n",
              "      <td>57.0</td>\n",
              "      <td>168.0</td>\n",
              "      <td>0.99490</td>\n",
              "      <td>3.15</td>\n",
              "      <td>0.46</td>\n",
              "      <td>9.6</td>\n",
              "      <td>2.0</td>\n",
              "    </tr>\n",
              "    <tr>\n",
              "      <th>4895</th>\n",
              "      <td>6.5</td>\n",
              "      <td>0.24</td>\n",
              "      <td>0.19</td>\n",
              "      <td>1.2</td>\n",
              "      <td>0.041</td>\n",
              "      <td>30.0</td>\n",
              "      <td>111.0</td>\n",
              "      <td>0.99254</td>\n",
              "      <td>2.99</td>\n",
              "      <td>0.46</td>\n",
              "      <td>9.4</td>\n",
              "      <td>3.0</td>\n",
              "    </tr>\n",
              "    <tr>\n",
              "      <th>4896</th>\n",
              "      <td>5.5</td>\n",
              "      <td>0.29</td>\n",
              "      <td>0.30</td>\n",
              "      <td>1.1</td>\n",
              "      <td>0.022</td>\n",
              "      <td>20.0</td>\n",
              "      <td>110.0</td>\n",
              "      <td>0.98869</td>\n",
              "      <td>3.34</td>\n",
              "      <td>0.38</td>\n",
              "      <td>12.8</td>\n",
              "      <td>4.0</td>\n",
              "    </tr>\n",
              "    <tr>\n",
              "      <th>4897</th>\n",
              "      <td>6.0</td>\n",
              "      <td>0.21</td>\n",
              "      <td>0.38</td>\n",
              "      <td>0.8</td>\n",
              "      <td>0.020</td>\n",
              "      <td>22.0</td>\n",
              "      <td>98.0</td>\n",
              "      <td>0.98941</td>\n",
              "      <td>3.26</td>\n",
              "      <td>0.32</td>\n",
              "      <td>11.8</td>\n",
              "      <td>3.0</td>\n",
              "    </tr>\n",
              "  </tbody>\n",
              "</table>\n",
              "<p>4873 rows × 12 columns</p>\n",
              "</div>"
            ],
            "text/plain": [
              "      fixed acidity  volatile acidity  citric acid  ...  sulphates  alcohol  quality\n",
              "0               7.0              0.27         0.36  ...       0.45      8.8      3.0\n",
              "1               6.3              0.30         0.34  ...       0.49      9.5      3.0\n",
              "2               8.1              0.28         0.40  ...       0.44     10.1      3.0\n",
              "3               7.2              0.23         0.32  ...       0.40      9.9      3.0\n",
              "4               7.2              0.23         0.32  ...       0.40      9.9      3.0\n",
              "...             ...               ...          ...  ...        ...      ...      ...\n",
              "4893            6.2              0.21         0.29  ...       0.50     11.2      3.0\n",
              "4894            6.6              0.32         0.36  ...       0.46      9.6      2.0\n",
              "4895            6.5              0.24         0.19  ...       0.46      9.4      3.0\n",
              "4896            5.5              0.29         0.30  ...       0.38     12.8      4.0\n",
              "4897            6.0              0.21         0.38  ...       0.32     11.8      3.0\n",
              "\n",
              "[4873 rows x 12 columns]"
            ]
          },
          "metadata": {
            "tags": []
          },
          "execution_count": 40
        }
      ]
    },
    {
      "cell_type": "code",
      "metadata": {
        "id": "VXBeGSk_QLp2"
      },
      "source": [
        "from sklearn.model_selection import train_test_split\n",
        "\n",
        "X3_train, X3_test, y3_train, y3_test = train_test_split(df.drop(columns=['quality'])\n",
        ", df['quality'], test_size=0.25, random_state=20)"
      ],
      "execution_count": null,
      "outputs": []
    },
    {
      "cell_type": "code",
      "metadata": {
        "colab": {
          "base_uri": "https://localhost:8080/"
        },
        "id": "fPFW4E4WQQ8A",
        "outputId": "037dd0e5-ad22-4bd2-f20f-f6e213e9ae49"
      },
      "source": [
        "model_3 = sm.MNLogit(y3_train, X3_train)\n",
        "results = model_3.fit()\n",
        "\n",
        "\n",
        "print(results.summary())\n",
        "print(results.summary2())"
      ],
      "execution_count": null,
      "outputs": [
        {
          "output_type": "stream",
          "text": [
            "Optimization terminated successfully.\n",
            "         Current function value: 1.056307\n",
            "         Iterations 8\n",
            "                          MNLogit Regression Results                          \n",
            "==============================================================================\n",
            "Dep. Variable:                quality   No. Observations:                 3654\n",
            "Model:                        MNLogit   Df Residuals:                     3610\n",
            "Method:                           MLE   Df Model:                           40\n",
            "Date:                Wed, 10 Feb 2021   Pseudo R-squ.:                  0.1629\n",
            "Time:                        18:43:24   Log-Likelihood:                -3859.7\n",
            "converged:                       True   LL-Null:                       -4610.6\n",
            "Covariance Type:            nonrobust   LLR p-value:                2.857e-289\n",
            "========================================================================================\n",
            "           quality=2       coef    std err          z      P>|z|      [0.025      0.975]\n",
            "----------------------------------------------------------------------------------------\n",
            "fixed acidity           -0.3565      0.117     -3.050      0.002      -0.586      -0.127\n",
            "volatile acidity        -3.3526      0.719     -4.666      0.000      -4.761      -1.944\n",
            "citric acid              0.5666      0.844      0.671      0.502      -1.087       2.220\n",
            "residual sugar           0.0248      0.026      0.958      0.338      -0.026       0.075\n",
            "chlorides                0.6735      4.433      0.152      0.879      -8.015       9.362\n",
            "free sulfur dioxide      0.0428      0.010      4.381      0.000       0.024       0.062\n",
            "total sulfur dioxide     0.0045      0.003      1.405      0.160      -0.002       0.011\n",
            "density                  6.9445      3.223      2.155      0.031       0.628      13.261\n",
            "pH                      -0.7569      0.803     -0.942      0.346      -2.331       0.817\n",
            "sulphates               -0.6851      0.985     -0.695      0.487      -2.616       1.246\n",
            "alcohol                 -0.0562      0.117     -0.482      0.630      -0.285       0.172\n",
            "----------------------------------------------------------------------------------------\n",
            "           quality=3       coef    std err          z      P>|z|      [0.025      0.975]\n",
            "----------------------------------------------------------------------------------------\n",
            "fixed acidity           -0.4971      0.119     -4.194      0.000      -0.729      -0.265\n",
            "volatile acidity        -9.3230      0.816    -11.429      0.000     -10.922      -7.724\n",
            "citric acid              0.5789      0.862      0.672      0.502      -1.110       2.268\n",
            "residual sugar           0.0899      0.026      3.449      0.001       0.039       0.141\n",
            "chlorides                1.6572      4.583      0.362      0.718      -7.326      10.640\n",
            "free sulfur dioxide      0.0521      0.010      5.290      0.000       0.033       0.071\n",
            "total sulfur dioxide     0.0019      0.003      0.592      0.554      -0.004       0.008\n",
            "density                 -0.8060      3.250     -0.248      0.804      -7.176       5.564\n",
            "pH                      -0.7909      0.805     -0.983      0.326      -2.368       0.787\n",
            "sulphates                0.7753      0.977      0.794      0.427      -1.139       2.690\n",
            "alcohol                  0.8958      0.117      7.652      0.000       0.666       1.125\n",
            "----------------------------------------------------------------------------------------\n",
            "           quality=4       coef    std err          z      P>|z|      [0.025      0.975]\n",
            "----------------------------------------------------------------------------------------\n",
            "fixed acidity           -0.3937      0.130     -3.036      0.002      -0.648      -0.140\n",
            "volatile acidity       -10.8839      0.951    -11.441      0.000     -12.748      -9.019\n",
            "citric acid              0.0194      0.957      0.020      0.984      -1.857       1.895\n",
            "residual sugar           0.1239      0.028      4.423      0.000       0.069       0.179\n",
            "chlorides              -19.8753      6.564     -3.028      0.002     -32.741      -7.010\n",
            "free sulfur dioxide      0.0619      0.010      5.978      0.000       0.042       0.082\n",
            "total sulfur dioxide    -0.0012      0.004     -0.348      0.728      -0.008       0.006\n",
            "density                -11.3764      3.504     -3.247      0.001     -18.244      -4.509\n",
            "pH                       0.4531      0.853      0.531      0.595      -1.220       2.126\n",
            "sulphates                1.8983      1.014      1.871      0.061      -0.090       3.886\n",
            "alcohol                  1.4151      0.126     11.261      0.000       1.169       1.661\n",
            "----------------------------------------------------------------------------------------\n",
            "           quality=5       coef    std err          z      P>|z|      [0.025      0.975]\n",
            "----------------------------------------------------------------------------------------\n",
            "fixed acidity           -0.4261      0.182     -2.345      0.019      -0.782      -0.070\n",
            "volatile acidity        -9.7515      1.325     -7.361      0.000     -12.348      -7.155\n",
            "citric acid              0.3750      1.225      0.306      0.760      -2.026       2.776\n",
            "residual sugar           0.1731      0.035      4.946      0.000       0.105       0.242\n",
            "chlorides               -8.0015      9.424     -0.849      0.396     -26.472      10.469\n",
            "free sulfur dioxide      0.0769      0.012      6.272      0.000       0.053       0.101\n",
            "total sulfur dioxide    -0.0002      0.005     -0.053      0.958      -0.010       0.009\n",
            "density                -21.8733      4.656     -4.698      0.000     -30.999     -12.747\n",
            "pH                       1.4754      1.087      1.358      0.175      -0.654       3.605\n",
            "sulphates                0.4116      1.216      0.338      0.735      -1.972       2.795\n",
            "alcohol                  1.8183      0.156     11.654      0.000       1.512       2.124\n",
            "========================================================================================\n",
            "                           Results: MNLogit\n",
            "=======================================================================\n",
            "Model:                 MNLogit           Pseudo R-squared:  0.163      \n",
            "Dependent Variable:    quality           AIC:               7807.4920  \n",
            "Date:                  2021-02-10 18:43  BIC:               8080.4494  \n",
            "No. Observations:      3654              Log-Likelihood:    -3859.7    \n",
            "Df Model:              40                LL-Null:           -4610.6    \n",
            "Df Residuals:          3610              LLR p-value:       2.8570e-289\n",
            "Converged:             1.0000            Scale:             1.0000     \n",
            "No. Iterations:        8.0000                                          \n",
            "-----------------------------------------------------------------------\n",
            "      quality = 0        Coef.  Std.Err.    t    P>|t|   [0.025  0.975]\n",
            "-----------------------------------------------------------------------\n",
            "       fixed acidity    -0.3565   0.1169 -3.0504 0.0023 -0.5855 -0.1274\n",
            "    volatile acidity    -3.3526   0.7186 -4.6656 0.0000 -4.7610 -1.9442\n",
            "         citric acid     0.5666   0.8439  0.6714 0.5020 -1.0874  2.2205\n",
            "      residual sugar     0.0248   0.0258  0.9580 0.3381 -0.0259  0.0754\n",
            "           chlorides     0.6735   4.4328  0.1519 0.8792 -8.0147  9.3617\n",
            " free sulfur dioxide     0.0428   0.0098  4.3813 0.0000  0.0236  0.0619\n",
            "total sulfur dioxide     0.0045   0.0032  1.4046 0.1601 -0.0018  0.0107\n",
            "             density     6.9445   3.2226  2.1549 0.0312  0.6283 13.2606\n",
            "                  pH    -0.7569   0.8032 -0.9423 0.3461 -2.3312  0.8175\n",
            "           sulphates    -0.6851   0.9853 -0.6953 0.4869 -2.6162  1.2461\n",
            "             alcohol    -0.0562   0.1166 -0.4821 0.6297 -0.2848  0.1723\n",
            "-----------------------------------------------------------------------\n",
            "     quality = 1       Coef.  Std.Err.    t     P>|t|   [0.025   0.975]\n",
            "-----------------------------------------------------------------------\n",
            "       fixed acidity  -0.4971   0.1185  -4.1939 0.0000  -0.7294 -0.2648\n",
            "    volatile acidity  -9.3230   0.8157 -11.4290 0.0000 -10.9218 -7.7242\n",
            "         citric acid   0.5789   0.8617   0.6717 0.5017  -1.1101  2.2679\n",
            "      residual sugar   0.0899   0.0261   3.4490 0.0006   0.0388  0.1410\n",
            "           chlorides   1.6572   4.5834   0.3616 0.7177  -7.3261 10.6405\n",
            " free sulfur dioxide   0.0521   0.0099   5.2903 0.0000   0.0328  0.0714\n",
            "total sulfur dioxide   0.0019   0.0032   0.5923 0.5537  -0.0044  0.0082\n",
            "             density  -0.8060   3.2502  -0.2480 0.8041  -7.1762  5.5642\n",
            "                  pH  -0.7909   0.8049  -0.9826 0.3258  -2.3684  0.7866\n",
            "           sulphates   0.7753   0.9769   0.7936 0.4274  -1.1394  2.6900\n",
            "             alcohol   0.8958   0.1171   7.6520 0.0000   0.6663  1.1252\n",
            "-----------------------------------------------------------------------\n",
            "    quality = 2       Coef.   Std.Err.    t     P>|t|   [0.025   0.975]\n",
            "-----------------------------------------------------------------------\n",
            "       fixed acidity  -0.3937   0.1297  -3.0363 0.0024  -0.6478 -0.1396\n",
            "    volatile acidity -10.8839   0.9513 -11.4415 0.0000 -12.7484 -9.0195\n",
            "         citric acid   0.0194   0.9572   0.0202 0.9838  -1.8567  1.8954\n",
            "      residual sugar   0.1239   0.0280   4.4231 0.0000   0.0690  0.1789\n",
            "           chlorides -19.8753   6.5640  -3.0279 0.0025 -32.7405 -7.0100\n",
            " free sulfur dioxide   0.0619   0.0103   5.9779 0.0000   0.0416  0.0821\n",
            "total sulfur dioxide  -0.0012   0.0035  -0.3475 0.7282  -0.0081  0.0057\n",
            "             density -11.3764   3.5038  -3.2469 0.0012 -18.2438 -4.5091\n",
            "                  pH   0.4531   0.8534   0.5310 0.5954  -1.2195  2.1257\n",
            "           sulphates   1.8983   1.0144   1.8713 0.0613  -0.0899  3.8864\n",
            "             alcohol   1.4151   0.1257  11.2609 0.0000   1.1688  1.6613\n",
            "-----------------------------------------------------------------------\n",
            "    quality = 3       Coef.   Std.Err.    t    P>|t|   [0.025   0.975] \n",
            "-----------------------------------------------------------------------\n",
            "       fixed acidity  -0.4261   0.1818 -2.3446 0.0190  -0.7824  -0.0699\n",
            "    volatile acidity  -9.7515   1.3247 -7.3613 0.0000 -12.3478  -7.1551\n",
            "         citric acid   0.3750   1.2251  0.3061 0.7595  -2.0262   2.7763\n",
            "      residual sugar   0.1731   0.0350  4.9463 0.0000   0.1045   0.2417\n",
            "           chlorides  -8.0015   9.4238 -0.8491 0.3958 -26.4718  10.4689\n",
            " free sulfur dioxide   0.0769   0.0123  6.2719 0.0000   0.0529   0.1009\n",
            "total sulfur dioxide  -0.0002   0.0047 -0.0528 0.9579  -0.0095   0.0090\n",
            "             density -21.8733   4.6563 -4.6975 0.0000 -30.9995 -12.7470\n",
            "                  pH   1.4754   1.0866  1.3577 0.1745  -0.6544   3.6052\n",
            "           sulphates   0.4116   1.2162  0.3384 0.7350  -1.9722   2.7954\n",
            "             alcohol   1.8183   0.1560 11.6538 0.0000   1.5125   2.1241\n",
            "=======================================================================\n",
            "\n"
          ],
          "name": "stdout"
        }
      ]
    },
    {
      "cell_type": "code",
      "metadata": {
        "colab": {
          "base_uri": "https://localhost:8080/",
          "height": 204
        },
        "id": "KQGoVc-gQZaj",
        "outputId": "ee430972-8850-4e42-e806-ce16875ffcc9"
      },
      "source": [
        "y_hat_3 = results.predict(X3_test)\n",
        "y_hat_3.head()"
      ],
      "execution_count": null,
      "outputs": [
        {
          "output_type": "execute_result",
          "data": {
            "text/html": [
              "<div>\n",
              "<style scoped>\n",
              "    .dataframe tbody tr th:only-of-type {\n",
              "        vertical-align: middle;\n",
              "    }\n",
              "\n",
              "    .dataframe tbody tr th {\n",
              "        vertical-align: top;\n",
              "    }\n",
              "\n",
              "    .dataframe thead th {\n",
              "        text-align: right;\n",
              "    }\n",
              "</style>\n",
              "<table border=\"1\" class=\"dataframe\">\n",
              "  <thead>\n",
              "    <tr style=\"text-align: right;\">\n",
              "      <th></th>\n",
              "      <th>0</th>\n",
              "      <th>1</th>\n",
              "      <th>2</th>\n",
              "      <th>3</th>\n",
              "      <th>4</th>\n",
              "    </tr>\n",
              "  </thead>\n",
              "  <tbody>\n",
              "    <tr>\n",
              "      <th>4798</th>\n",
              "      <td>0.010495</td>\n",
              "      <td>0.226465</td>\n",
              "      <td>0.557493</td>\n",
              "      <td>0.171067</td>\n",
              "      <td>0.034481</td>\n",
              "    </tr>\n",
              "    <tr>\n",
              "      <th>2805</th>\n",
              "      <td>0.015126</td>\n",
              "      <td>0.181462</td>\n",
              "      <td>0.528029</td>\n",
              "      <td>0.242715</td>\n",
              "      <td>0.032668</td>\n",
              "    </tr>\n",
              "    <tr>\n",
              "      <th>1384</th>\n",
              "      <td>0.034972</td>\n",
              "      <td>0.120887</td>\n",
              "      <td>0.600522</td>\n",
              "      <td>0.225845</td>\n",
              "      <td>0.017773</td>\n",
              "    </tr>\n",
              "    <tr>\n",
              "      <th>312</th>\n",
              "      <td>0.035007</td>\n",
              "      <td>0.417929</td>\n",
              "      <td>0.422924</td>\n",
              "      <td>0.110513</td>\n",
              "      <td>0.013626</td>\n",
              "    </tr>\n",
              "    <tr>\n",
              "      <th>3577</th>\n",
              "      <td>0.007386</td>\n",
              "      <td>0.100979</td>\n",
              "      <td>0.551660</td>\n",
              "      <td>0.307663</td>\n",
              "      <td>0.032312</td>\n",
              "    </tr>\n",
              "  </tbody>\n",
              "</table>\n",
              "</div>"
            ],
            "text/plain": [
              "             0         1         2         3         4\n",
              "4798  0.010495  0.226465  0.557493  0.171067  0.034481\n",
              "2805  0.015126  0.181462  0.528029  0.242715  0.032668\n",
              "1384  0.034972  0.120887  0.600522  0.225845  0.017773\n",
              "312   0.035007  0.417929  0.422924  0.110513  0.013626\n",
              "3577  0.007386  0.100979  0.551660  0.307663  0.032312"
            ]
          },
          "metadata": {
            "tags": []
          },
          "execution_count": 43
        }
      ]
    },
    {
      "cell_type": "code",
      "metadata": {
        "id": "OPvV6zWRQept"
      },
      "source": [
        "predictions_3 = y_hat_3.idxmax(axis=1)"
      ],
      "execution_count": null,
      "outputs": []
    },
    {
      "cell_type": "code",
      "metadata": {
        "colab": {
          "base_uri": "https://localhost:8080/",
          "height": 398
        },
        "id": "9GAOwyV9Qil7",
        "outputId": "77fbd450-d951-4ca5-fb7a-3ac444c1103c"
      },
      "source": [
        "conf_matrix = pd.crosstab(y3_test, predictions_3, rownames=['Actual'], colnames=['Predictions'])\n",
        "print(conf_matrix)\n",
        "\n",
        "sb.heatmap(conf_matrix, annot=True)\n",
        "plt.show()"
      ],
      "execution_count": null,
      "outputs": [
        {
          "output_type": "stream",
          "text": [
            "Predictions  0    1    2   3  4\n",
            "Actual                         \n",
            "1.0          1   25   15   1  0\n",
            "2.0          0  185  168   3  0\n",
            "3.0          1  106  420  29  1\n",
            "4.0          0    9  154  56  0\n",
            "5.0          0    6   28  11  0\n"
          ],
          "name": "stdout"
        },
        {
          "output_type": "display_data",
          "data": {
            "image/png": "[encoded data removed]",
            "text/plain": [
              "<Figure size 432x288 with 2 Axes>"
            ]
          },
          "metadata": {
            "tags": [],
            "needs_background": "light"
          }
        }
      ]
    },
    {
      "cell_type": "code",
      "metadata": {
        "colab": {
          "base_uri": "https://localhost:8080/"
        },
        "id": "_Q1bfKNYQ_Fr",
        "outputId": "fd5fc7ca-83d2-45e6-9c89-0516c3e373d6"
      },
      "source": [
        "from sklearn.metrics import (accuracy_score) \n",
        "# accuracy score of the model \n",
        "print('Test accuracy = ', accuracy_score(y3_test, predictions_3))"
      ],
      "execution_count": null,
      "outputs": [
        {
          "output_type": "stream",
          "text": [
            "Test accuracy =  0.18211648892534865\n"
          ],
          "name": "stdout"
        }
      ]
    }
  ]
}